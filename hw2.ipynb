{
 "cells": [
  {
   "cell_type": "markdown",
   "metadata": {},
   "source": [
    "Hi, we wish to start pertaining homework #2. \n",
    "\n",
    "## **Theoretical section** "
   ]
  },
  {
   "cell_type": "code",
   "execution_count": 1,
   "metadata": {},
   "outputs": [
    {
     "data": {
      "text/html": [
       "\n",
       "        <iframe\n",
       "            width=\"700\"\n",
       "            height=\"1000\"\n",
       "            src=\"Theoretical_part_hw2.pdf\"\n",
       "            frameborder=\"0\"\n",
       "            allowfullscreen\n",
       "        ></iframe>\n",
       "        "
      ],
      "text/plain": [
       "<IPython.lib.display.IFrame at 0x2dbe4675608>"
      ]
     },
     "execution_count": 1,
     "metadata": {},
     "output_type": "execute_result"
    }
   ],
   "source": [
    "from IPython.display import IFrame, display\n",
    "filepath = \"Theoretical_part_hw2.pdf\"\n",
    "IFrame(filepath, width=700, height=1000)"
   ]
  },
  {
   "cell_type": "markdown",
   "metadata": {},
   "source": [
    "\n",
    "## **Practical Section**\n",
    "\n",
    "\n",
    "#### Q1:\n",
    "\n",
    "Importing the data "
   ]
  },
  {
   "cell_type": "code",
   "execution_count": 2,
   "metadata": {
    "jupyter": {
     "source_hidden": true
    }
   },
   "outputs": [],
   "source": [
    "import pandas as pd \n",
    "import numpy as np\n",
    "from pathlib import Path\n",
    "import matplotlib.pyplot as plt\n",
    "import matplotlib as mpl\n",
    "import seaborn as sns\n",
    "from sklearn import metrics\n",
    "from sklearn import svm\n",
    "from sklearn.model_selection import train_test_split as tts\n",
    "from sklearn.linear_model import LogisticRegression\n",
    "from sklearn.model_selection import StratifiedKFold as SKFold\n",
    "from sklearn.model_selection import GridSearchCV\n",
    "from sklearn.metrics import confusion_matrix\n",
    "from matplotlib.ticker import (AutoMinorLocator, MultipleLocator)\n",
    "from sklearn.preprocessing import OneHotEncoder\n",
    "from sklearn.preprocessing import StandardScaler as stsc\n",
    "from sklearn.ensemble import RandomForestClassifier as RFC\n",
    "from sklearn.decomposition import PCA\n",
    "filepath = Path.cwd().joinpath('HW2_data.csv')\n",
    "T1D = pd.read_csv(filepath)"
   ]
  },
  {
   "cell_type": "markdown",
   "metadata": {},
   "source": [
    "Now we want to exclude patients that did not answer all the questions. and then assign the Diagnosis to a distinct dataframe"
   ]
  },
  {
   "cell_type": "code",
   "execution_count": 3,
   "metadata": {
    "jupyter": {
     "source_hidden": true
    }
   },
   "outputs": [],
   "source": [
    "T1D_raw_exnan = T1D.dropna()  \n",
    "diagnosis = T1D_raw_exnan['Diagnosis']\n",
    "diagnosis = diagnosis.replace('Positive', True).replace('Negative', False)\n",
    "age = T1D_raw_exnan['Age']\n",
    "feat_col = set(T1D_raw_exnan.columns)\n",
    "feat_col.remove('Diagnosis')\n",
    "T1D_exnan_age = T1D_raw_exnan[feat_col]\n",
    "T1D_exnan_age = T1D_raw_exnan[feat_col]\n",
    "T1D_exnan_age = T1D_exnan_age.replace('Yes', 1)\n",
    "T1D_exnan_age = T1D_exnan_age.replace('No', 0)\n",
    "T1D_exnan_age = T1D_exnan_age.replace('Female', 1)\n",
    "T1D_exnan_age = T1D_exnan_age.replace('Male', 0)\n",
    "feat_col.remove('Age')\n",
    "T1D_exnan = T1D_exnan_age[feat_col]"
   ]
  },
  {
   "cell_type": "markdown",
   "metadata": {},
   "source": [
    "##### explanation for preprocessing:\n",
    "\n",
    "we have ommitted every patient that has a NaN feature. we should check that this doesn't affect the distribution and force a bias. furthermore, for simplicity we turned the data into numeric values, yes to 1 no to 0, and Gender as well, 1 to female 0 to male (Done that before reading Q4). and diagnosis Vector turned into True and False"
   ]
  },
  {
   "cell_type": "markdown",
   "metadata": {},
   "source": [
    "#### **Q2:**\n",
    "Perfroming test-train split"
   ]
  },
  {
   "cell_type": "code",
   "execution_count": 4,
   "metadata": {},
   "outputs": [],
   "source": [
    "xtr, xte, ytr, yte = tts(T1D_exnan, np.ravel(diagnosis), test_size=0.2, random_state=7, stratify=np.ravel(diagnosis))"
   ]
  },
  {
   "cell_type": "markdown",
   "metadata": {},
   "source": [
    "#### **Q3:**\n",
    "Visualization and exploration of the data:\n",
    "\n",
    "**3. a.**"
   ]
  },
  {
   "cell_type": "code",
   "execution_count": 5,
   "metadata": {
    "jupyter": {
     "source_hidden": true
    }
   },
   "outputs": [
    {
     "data": {
      "text/html": [
       "<div>\n",
       "<style scoped>\n",
       "    .dataframe tbody tr th:only-of-type {\n",
       "        vertical-align: middle;\n",
       "    }\n",
       "\n",
       "    .dataframe tbody tr th {\n",
       "        vertical-align: top;\n",
       "    }\n",
       "\n",
       "    .dataframe thead th {\n",
       "        text-align: right;\n",
       "    }\n",
       "</style>\n",
       "<table border=\"1\" class=\"dataframe\">\n",
       "  <thead>\n",
       "    <tr style=\"text-align: right;\">\n",
       "      <th>Positive Feature</th>\n",
       "      <th>Train [%]</th>\n",
       "      <th>Test [%]</th>\n",
       "      <th>Delta [%]</th>\n",
       "    </tr>\n",
       "  </thead>\n",
       "  <tbody>\n",
       "    <tr>\n",
       "      <th>Hair Loss</th>\n",
       "      <td>33.9713</td>\n",
       "      <td>37.1429</td>\n",
       "      <td>-3.17157</td>\n",
       "    </tr>\n",
       "    <tr>\n",
       "      <th>Sudden Weight Loss</th>\n",
       "      <td>41.3876</td>\n",
       "      <td>41.9048</td>\n",
       "      <td>-0.517202</td>\n",
       "    </tr>\n",
       "    <tr>\n",
       "      <th>Partial Paresis</th>\n",
       "      <td>42.823</td>\n",
       "      <td>42.8571</td>\n",
       "      <td>-0.0341763</td>\n",
       "    </tr>\n",
       "    <tr>\n",
       "      <th>Increased Thirst</th>\n",
       "      <td>44.2584</td>\n",
       "      <td>45.7143</td>\n",
       "      <td>-1.45591</td>\n",
       "    </tr>\n",
       "    <tr>\n",
       "      <th>Family History</th>\n",
       "      <td>50.4785</td>\n",
       "      <td>52.381</td>\n",
       "      <td>-1.90248</td>\n",
       "    </tr>\n",
       "    <tr>\n",
       "      <th>Gender</th>\n",
       "      <td>37.799</td>\n",
       "      <td>33.3333</td>\n",
       "      <td>4.46571</td>\n",
       "    </tr>\n",
       "    <tr>\n",
       "      <th>Genital Thrush</th>\n",
       "      <td>21.2919</td>\n",
       "      <td>25.7143</td>\n",
       "      <td>-4.42242</td>\n",
       "    </tr>\n",
       "    <tr>\n",
       "      <th>Irritability</th>\n",
       "      <td>23.445</td>\n",
       "      <td>27.619</td>\n",
       "      <td>-4.17407</td>\n",
       "    </tr>\n",
       "    <tr>\n",
       "      <th>Muscle Stiffness</th>\n",
       "      <td>37.5598</td>\n",
       "      <td>36.1905</td>\n",
       "      <td>1.36933</td>\n",
       "    </tr>\n",
       "    <tr>\n",
       "      <th>Increased Urination</th>\n",
       "      <td>48.5646</td>\n",
       "      <td>53.3333</td>\n",
       "      <td>-4.76874</td>\n",
       "    </tr>\n",
       "    <tr>\n",
       "      <th>Increased Hunger</th>\n",
       "      <td>46.1722</td>\n",
       "      <td>42.8571</td>\n",
       "      <td>3.31511</td>\n",
       "    </tr>\n",
       "    <tr>\n",
       "      <th>Visual Blurring</th>\n",
       "      <td>44.7368</td>\n",
       "      <td>43.8095</td>\n",
       "      <td>0.927318</td>\n",
       "    </tr>\n",
       "    <tr>\n",
       "      <th>Obesity</th>\n",
       "      <td>16.2679</td>\n",
       "      <td>19.0476</td>\n",
       "      <td>-2.77968</td>\n",
       "    </tr>\n",
       "    <tr>\n",
       "      <th>Itching</th>\n",
       "      <td>48.3254</td>\n",
       "      <td>49.5238</td>\n",
       "      <td>-1.19845</td>\n",
       "    </tr>\n",
       "    <tr>\n",
       "      <th>Weakness</th>\n",
       "      <td>59.5694</td>\n",
       "      <td>54.2857</td>\n",
       "      <td>5.28366</td>\n",
       "    </tr>\n",
       "    <tr>\n",
       "      <th>Delayed Healing</th>\n",
       "      <td>46.4115</td>\n",
       "      <td>43.8095</td>\n",
       "      <td>2.60196</td>\n",
       "    </tr>\n",
       "  </tbody>\n",
       "</table>\n",
       "</div>"
      ],
      "text/plain": [
       "Positive Feature    Train [%] Test [%]  Delta [%]\n",
       "Hair Loss             33.9713  37.1429   -3.17157\n",
       "Sudden Weight Loss    41.3876  41.9048  -0.517202\n",
       "Partial Paresis        42.823  42.8571 -0.0341763\n",
       "Increased Thirst      44.2584  45.7143   -1.45591\n",
       "Family History        50.4785   52.381   -1.90248\n",
       "Gender                 37.799  33.3333    4.46571\n",
       "Genital Thrush        21.2919  25.7143   -4.42242\n",
       "Irritability           23.445   27.619   -4.17407\n",
       "Muscle Stiffness      37.5598  36.1905    1.36933\n",
       "Increased Urination   48.5646  53.3333   -4.76874\n",
       "Increased Hunger      46.1722  42.8571    3.31511\n",
       "Visual Blurring       44.7368  43.8095   0.927318\n",
       "Obesity               16.2679  19.0476   -2.77968\n",
       "Itching               48.3254  49.5238   -1.19845\n",
       "Weakness              59.5694  54.2857    5.28366\n",
       "Delayed Healing       46.4115  43.8095    2.60196"
      ]
     },
     "metadata": {},
     "output_type": "display_data"
    }
   ],
   "source": [
    "vis_table = pd.DataFrame(index=feat_col, columns=['Train [%]', 'Test [%]', 'Delta [%]'])\n",
    "for ii, col in enumerate(feat_col):\n",
    "    vis_table.loc[col, 'Train [%]'] = 100 * xtr[col].sum() / xtr[col].count()\n",
    "    vis_table.loc[col, 'Test [%]'] = 100 * xte[col].sum() / xte[col].count()\n",
    "    vis_table.loc[col, 'Delta [%]'] = vis_table.loc[col, 'Train [%]'] - vis_table.loc[col, 'Test [%]']\n",
    "vis_table=vis_table.rename_axis('Positive Feature', axis=1)\n",
    "display(vis_table)"
   ]
  },
  {
   "cell_type": "markdown",
   "metadata": {},
   "source": [
    "We can see that the the representation of the various features are very similar in the train and test sets.\n",
    "\n",
    "i. An imbalance of features between train and test might force a bias to the results because of under-representation or over representation to a particular phenomena that might build a model that doesn't fit the test data or correctly predict the futural data.\n",
    "\n",
    "ii. If the medical condition is not complex, meaning that only exclusive set of sympotms are indicative/predictive for the condition, then stratifying the test-train data based on the diagnosis guarantees balanced representation of these features, meaning we can ignore other features that are imbalanced. For more complex datasets, we should try to stratify the data based on the features, i.e. looking at the n-dimesional distribution and try to split the data in a balanced way along with trying to balance the diagnosis.\n"
   ]
  },
  {
   "cell_type": "markdown",
   "metadata": {},
   "source": [
    "**3. b.** in order to observe the relationship between features and labels we've constructed:"
   ]
  },
  {
   "cell_type": "code",
   "execution_count": 6,
   "metadata": {
    "jupyter": {
     "source_hidden": true
    }
   },
   "outputs": [
    {
     "data": {
      "image/png": "[encoded data removed]",
      "text/plain": [
       "<Figure size 2160x2160 with 16 Axes>"
      ]
     },
     "metadata": {
      "needs_background": "light"
     },
     "output_type": "display_data"
    }
   ],
   "source": [
    "fig = plt.figure(figsize=(30,30))\n",
    "sns.set_theme(style=\"ticks\", color_codes=True)\n",
    "for ii, col in enumerate(feat_col):\n",
    "    ax = fig.add_subplot(4,4,ii+1)\n",
    "    plot = sns.countplot(y=col, hue=\"Diagnosis\", data=T1D_raw_exnan, palette=\"rocket\", edgecolor=\".7\",ax=ax)"
   ]
  },
  {
   "cell_type": "markdown",
   "metadata": {},
   "source": [
    "Further, in the next plot we wanted to find any correlation between age and diagnosis, since the Age data is not binary, and further discriminated between females and males in order to observe any biases."
   ]
  },
  {
   "cell_type": "code",
   "execution_count": 7,
   "metadata": {
    "jupyter": {
     "source_hidden": true
    }
   },
   "outputs": [
    {
     "data": {
      "image/png": "[encoded data removed]",
      "text/plain": [
       "<Figure size 432x288 with 1 Axes>"
      ]
     },
     "metadata": {},
     "output_type": "display_data"
    }
   ],
   "source": [
    "fig = plt.figure()\n",
    "plot = sns.stripplot(x=\"Age\", y=\"Diagnosis\", hue=\"Gender\", data=T1D_raw_exnan)"
   ]
  },
  {
   "cell_type": "markdown",
   "metadata": {},
   "source": [
    "3. d. i. first, we noticed that nearly all the females in this dataset have T1D, which might bias the model/predictions. afterwards we further investigated the countplots with two different perspectives: \n",
    "\n",
    "    1- Picking the symptoms (features) that are present mainly in the T1D positive patients (https://www.mayoclinic.org/diseases-conditions/type-1-diabetes/symptoms-causes/syc-20353011), we see that if the symptom is present, most probably the patient is T1D-positive. \n",
    "\n",
    "    2- looking at the positives patients and noticing that not all of them are showing the same symptoms, meaning that there is a T1D-positive patient that doesn't suffer from increased-thirst for instance. you may look at visual blurring symptom, we can see that there is nearly 50-50 partition in T1D-postivie patietns. Meaning, a model based mainly on this feature is not sensitive enough and will miss-classify a significant amount of T1D-positive patients."
   ]
  },
  {
   "cell_type": "markdown",
   "metadata": {},
   "source": [
    "3. d. ii. Yes, we scanned the categorical plots above and searched for large gaps between Negative and Positive diagnosis correlated with specific features. For instance, look at **Increased Urination**, where you can see that most of the participants that have this symptom are positive for T1D so we can infer that this symptom is indicative/predictive for T1D. other than **Increased Urination**, there are: **Increased Hunger**, **Increased Thirst**, **Irritibaility**, **Prtial Paresis** and **Visual Paresis**."
   ]
  },
  {
   "cell_type": "markdown",
   "metadata": {},
   "source": [
    "#### **Q4:**\n",
    "We have already done the transformation for hot vectors manually, as we binarized the yes/no dataset. We decided to neglect the Age feature at first, due to a broad distribution that might be detrimental for the performance, and we furhter corroborated the decision by showing above that there is no clear observed correlation between Age and Diagnosis. to observe our manual work excluding age feature: "
   ]
  },
  {
   "cell_type": "code",
   "execution_count": 8,
   "metadata": {},
   "outputs": [
    {
     "data": {
      "text/html": [
       "<div>\n",
       "<style scoped>\n",
       "    .dataframe tbody tr th:only-of-type {\n",
       "        vertical-align: middle;\n",
       "    }\n",
       "\n",
       "    .dataframe tbody tr th {\n",
       "        vertical-align: top;\n",
       "    }\n",
       "\n",
       "    .dataframe thead th {\n",
       "        text-align: right;\n",
       "    }\n",
       "</style>\n",
       "<table border=\"1\" class=\"dataframe\">\n",
       "  <thead>\n",
       "    <tr style=\"text-align: right;\">\n",
       "      <th></th>\n",
       "      <th>Hair Loss</th>\n",
       "      <th>Sudden Weight Loss</th>\n",
       "      <th>Partial Paresis</th>\n",
       "      <th>Increased Thirst</th>\n",
       "      <th>Family History</th>\n",
       "      <th>Gender</th>\n",
       "      <th>Genital Thrush</th>\n",
       "      <th>Irritability</th>\n",
       "      <th>Muscle Stiffness</th>\n",
       "      <th>Increased Urination</th>\n",
       "      <th>Increased Hunger</th>\n",
       "      <th>Visual Blurring</th>\n",
       "      <th>Obesity</th>\n",
       "      <th>Itching</th>\n",
       "      <th>Weakness</th>\n",
       "      <th>Delayed Healing</th>\n",
       "    </tr>\n",
       "  </thead>\n",
       "  <tbody>\n",
       "    <tr>\n",
       "      <th>0</th>\n",
       "      <td>1</td>\n",
       "      <td>0</td>\n",
       "      <td>1</td>\n",
       "      <td>0</td>\n",
       "      <td>0</td>\n",
       "      <td>0</td>\n",
       "      <td>0</td>\n",
       "      <td>0</td>\n",
       "      <td>0</td>\n",
       "      <td>0</td>\n",
       "      <td>0</td>\n",
       "      <td>0</td>\n",
       "      <td>0</td>\n",
       "      <td>1</td>\n",
       "      <td>1</td>\n",
       "      <td>0</td>\n",
       "    </tr>\n",
       "    <tr>\n",
       "      <th>1</th>\n",
       "      <td>1</td>\n",
       "      <td>0</td>\n",
       "      <td>0</td>\n",
       "      <td>0</td>\n",
       "      <td>0</td>\n",
       "      <td>0</td>\n",
       "      <td>0</td>\n",
       "      <td>0</td>\n",
       "      <td>0</td>\n",
       "      <td>0</td>\n",
       "      <td>0</td>\n",
       "      <td>0</td>\n",
       "      <td>0</td>\n",
       "      <td>0</td>\n",
       "      <td>0</td>\n",
       "      <td>0</td>\n",
       "    </tr>\n",
       "    <tr>\n",
       "      <th>2</th>\n",
       "      <td>1</td>\n",
       "      <td>0</td>\n",
       "      <td>0</td>\n",
       "      <td>1</td>\n",
       "      <td>0</td>\n",
       "      <td>0</td>\n",
       "      <td>1</td>\n",
       "      <td>0</td>\n",
       "      <td>0</td>\n",
       "      <td>1</td>\n",
       "      <td>0</td>\n",
       "      <td>0</td>\n",
       "      <td>0</td>\n",
       "      <td>0</td>\n",
       "      <td>1</td>\n",
       "      <td>1</td>\n",
       "    </tr>\n",
       "    <tr>\n",
       "      <th>3</th>\n",
       "      <td>0</td>\n",
       "      <td>0</td>\n",
       "      <td>0</td>\n",
       "      <td>0</td>\n",
       "      <td>1</td>\n",
       "      <td>1</td>\n",
       "      <td>0</td>\n",
       "      <td>0</td>\n",
       "      <td>0</td>\n",
       "      <td>0</td>\n",
       "      <td>0</td>\n",
       "      <td>0</td>\n",
       "      <td>0</td>\n",
       "      <td>0</td>\n",
       "      <td>0</td>\n",
       "      <td>0</td>\n",
       "    </tr>\n",
       "    <tr>\n",
       "      <th>4</th>\n",
       "      <td>0</td>\n",
       "      <td>1</td>\n",
       "      <td>1</td>\n",
       "      <td>1</td>\n",
       "      <td>0</td>\n",
       "      <td>1</td>\n",
       "      <td>0</td>\n",
       "      <td>0</td>\n",
       "      <td>1</td>\n",
       "      <td>1</td>\n",
       "      <td>0</td>\n",
       "      <td>1</td>\n",
       "      <td>0</td>\n",
       "      <td>1</td>\n",
       "      <td>1</td>\n",
       "      <td>0</td>\n",
       "    </tr>\n",
       "    <tr>\n",
       "      <th>...</th>\n",
       "      <td>...</td>\n",
       "      <td>...</td>\n",
       "      <td>...</td>\n",
       "      <td>...</td>\n",
       "      <td>...</td>\n",
       "      <td>...</td>\n",
       "      <td>...</td>\n",
       "      <td>...</td>\n",
       "      <td>...</td>\n",
       "      <td>...</td>\n",
       "      <td>...</td>\n",
       "      <td>...</td>\n",
       "      <td>...</td>\n",
       "      <td>...</td>\n",
       "      <td>...</td>\n",
       "      <td>...</td>\n",
       "    </tr>\n",
       "    <tr>\n",
       "      <th>518</th>\n",
       "      <td>1</td>\n",
       "      <td>0</td>\n",
       "      <td>1</td>\n",
       "      <td>0</td>\n",
       "      <td>0</td>\n",
       "      <td>0</td>\n",
       "      <td>1</td>\n",
       "      <td>1</td>\n",
       "      <td>1</td>\n",
       "      <td>1</td>\n",
       "      <td>0</td>\n",
       "      <td>1</td>\n",
       "      <td>1</td>\n",
       "      <td>1</td>\n",
       "      <td>1</td>\n",
       "      <td>0</td>\n",
       "    </tr>\n",
       "    <tr>\n",
       "      <th>519</th>\n",
       "      <td>1</td>\n",
       "      <td>0</td>\n",
       "      <td>0</td>\n",
       "      <td>0</td>\n",
       "      <td>0</td>\n",
       "      <td>0</td>\n",
       "      <td>1</td>\n",
       "      <td>1</td>\n",
       "      <td>0</td>\n",
       "      <td>1</td>\n",
       "      <td>1</td>\n",
       "      <td>0</td>\n",
       "      <td>0</td>\n",
       "      <td>0</td>\n",
       "      <td>0</td>\n",
       "      <td>1</td>\n",
       "    </tr>\n",
       "    <tr>\n",
       "      <th>562</th>\n",
       "      <td>1</td>\n",
       "      <td>0</td>\n",
       "      <td>0</td>\n",
       "      <td>0</td>\n",
       "      <td>1</td>\n",
       "      <td>1</td>\n",
       "      <td>0</td>\n",
       "      <td>1</td>\n",
       "      <td>0</td>\n",
       "      <td>1</td>\n",
       "      <td>1</td>\n",
       "      <td>0</td>\n",
       "      <td>0</td>\n",
       "      <td>0</td>\n",
       "      <td>0</td>\n",
       "      <td>0</td>\n",
       "    </tr>\n",
       "    <tr>\n",
       "      <th>563</th>\n",
       "      <td>1</td>\n",
       "      <td>0</td>\n",
       "      <td>0</td>\n",
       "      <td>0</td>\n",
       "      <td>0</td>\n",
       "      <td>0</td>\n",
       "      <td>0</td>\n",
       "      <td>0</td>\n",
       "      <td>0</td>\n",
       "      <td>0</td>\n",
       "      <td>0</td>\n",
       "      <td>0</td>\n",
       "      <td>0</td>\n",
       "      <td>1</td>\n",
       "      <td>1</td>\n",
       "      <td>1</td>\n",
       "    </tr>\n",
       "    <tr>\n",
       "      <th>564</th>\n",
       "      <td>0</td>\n",
       "      <td>0</td>\n",
       "      <td>0</td>\n",
       "      <td>0</td>\n",
       "      <td>0</td>\n",
       "      <td>0</td>\n",
       "      <td>0</td>\n",
       "      <td>0</td>\n",
       "      <td>0</td>\n",
       "      <td>0</td>\n",
       "      <td>0</td>\n",
       "      <td>0</td>\n",
       "      <td>0</td>\n",
       "      <td>0</td>\n",
       "      <td>0</td>\n",
       "      <td>0</td>\n",
       "    </tr>\n",
       "  </tbody>\n",
       "</table>\n",
       "<p>523 rows × 16 columns</p>\n",
       "</div>"
      ],
      "text/plain": [
       "     Hair Loss  Sudden Weight Loss  Partial Paresis  Increased Thirst  \\\n",
       "0            1                   0                1                 0   \n",
       "1            1                   0                0                 0   \n",
       "2            1                   0                0                 1   \n",
       "3            0                   0                0                 0   \n",
       "4            0                   1                1                 1   \n",
       "..         ...                 ...              ...               ...   \n",
       "518          1                   0                1                 0   \n",
       "519          1                   0                0                 0   \n",
       "562          1                   0                0                 0   \n",
       "563          1                   0                0                 0   \n",
       "564          0                   0                0                 0   \n",
       "\n",
       "     Family History  Gender  Genital Thrush  Irritability  Muscle Stiffness  \\\n",
       "0                 0       0               0             0                 0   \n",
       "1                 0       0               0             0                 0   \n",
       "2                 0       0               1             0                 0   \n",
       "3                 1       1               0             0                 0   \n",
       "4                 0       1               0             0                 1   \n",
       "..              ...     ...             ...           ...               ...   \n",
       "518               0       0               1             1                 1   \n",
       "519               0       0               1             1                 0   \n",
       "562               1       1               0             1                 0   \n",
       "563               0       0               0             0                 0   \n",
       "564               0       0               0             0                 0   \n",
       "\n",
       "     Increased Urination  Increased Hunger  Visual Blurring  Obesity  Itching  \\\n",
       "0                      0                 0                0        0        1   \n",
       "1                      0                 0                0        0        0   \n",
       "2                      1                 0                0        0        0   \n",
       "3                      0                 0                0        0        0   \n",
       "4                      1                 0                1        0        1   \n",
       "..                   ...               ...              ...      ...      ...   \n",
       "518                    1                 0                1        1        1   \n",
       "519                    1                 1                0        0        0   \n",
       "562                    1                 1                0        0        0   \n",
       "563                    0                 0                0        0        1   \n",
       "564                    0                 0                0        0        0   \n",
       "\n",
       "     Weakness  Delayed Healing  \n",
       "0           1                0  \n",
       "1           0                0  \n",
       "2           1                1  \n",
       "3           0                0  \n",
       "4           1                0  \n",
       "..        ...              ...  \n",
       "518         1                0  \n",
       "519         0                1  \n",
       "562         0                0  \n",
       "563         1                1  \n",
       "564         0                0  \n",
       "\n",
       "[523 rows x 16 columns]"
      ]
     },
     "metadata": {},
     "output_type": "display_data"
    }
   ],
   "source": [
    "display(T1D_exnan)"
   ]
  },
  {
   "cell_type": "markdown",
   "metadata": {},
   "source": [
    "Notwithstanding, we decided to test whether the age criteria might influence the model, we will include it in a parallel analysis, here we encode the whole data with one-hot vectors as offered by sklearn (pseudo-binarized the age feature, by trnasforming it for multiple 'pseudo-features'- every bit in the age sub-field indicates one number)."
   ]
  },
  {
   "cell_type": "code",
   "execution_count": 9,
   "metadata": {
    "jupyter": {
     "source_hidden": true
    }
   },
   "outputs": [
    {
     "data": {
      "text/html": [
       "<div>\n",
       "<style scoped>\n",
       "    .dataframe tbody tr th:only-of-type {\n",
       "        vertical-align: middle;\n",
       "    }\n",
       "\n",
       "    .dataframe tbody tr th {\n",
       "        vertical-align: top;\n",
       "    }\n",
       "\n",
       "    .dataframe thead th {\n",
       "        text-align: right;\n",
       "    }\n",
       "</style>\n",
       "<table border=\"1\" class=\"dataframe\">\n",
       "  <thead>\n",
       "    <tr style=\"text-align: right;\">\n",
       "      <th></th>\n",
       "      <th>0</th>\n",
       "      <th>1</th>\n",
       "      <th>2</th>\n",
       "      <th>3</th>\n",
       "      <th>4</th>\n",
       "      <th>5</th>\n",
       "      <th>6</th>\n",
       "      <th>7</th>\n",
       "      <th>8</th>\n",
       "      <th>9</th>\n",
       "      <th>...</th>\n",
       "      <th>73</th>\n",
       "      <th>74</th>\n",
       "      <th>75</th>\n",
       "      <th>76</th>\n",
       "      <th>77</th>\n",
       "      <th>78</th>\n",
       "      <th>79</th>\n",
       "      <th>80</th>\n",
       "      <th>81</th>\n",
       "      <th>82</th>\n",
       "    </tr>\n",
       "  </thead>\n",
       "  <tbody>\n",
       "    <tr>\n",
       "      <th>0</th>\n",
       "      <td>0.0</td>\n",
       "      <td>1.0</td>\n",
       "      <td>1.0</td>\n",
       "      <td>0.0</td>\n",
       "      <td>0.0</td>\n",
       "      <td>1.0</td>\n",
       "      <td>1.0</td>\n",
       "      <td>0.0</td>\n",
       "      <td>0.0</td>\n",
       "      <td>0.0</td>\n",
       "      <td>...</td>\n",
       "      <td>1.0</td>\n",
       "      <td>0.0</td>\n",
       "      <td>1.0</td>\n",
       "      <td>0.0</td>\n",
       "      <td>0.0</td>\n",
       "      <td>1.0</td>\n",
       "      <td>0.0</td>\n",
       "      <td>1.0</td>\n",
       "      <td>1.0</td>\n",
       "      <td>0.0</td>\n",
       "    </tr>\n",
       "    <tr>\n",
       "      <th>1</th>\n",
       "      <td>0.0</td>\n",
       "      <td>1.0</td>\n",
       "      <td>1.0</td>\n",
       "      <td>0.0</td>\n",
       "      <td>1.0</td>\n",
       "      <td>0.0</td>\n",
       "      <td>1.0</td>\n",
       "      <td>0.0</td>\n",
       "      <td>0.0</td>\n",
       "      <td>0.0</td>\n",
       "      <td>...</td>\n",
       "      <td>1.0</td>\n",
       "      <td>0.0</td>\n",
       "      <td>1.0</td>\n",
       "      <td>0.0</td>\n",
       "      <td>1.0</td>\n",
       "      <td>0.0</td>\n",
       "      <td>1.0</td>\n",
       "      <td>0.0</td>\n",
       "      <td>1.0</td>\n",
       "      <td>0.0</td>\n",
       "    </tr>\n",
       "    <tr>\n",
       "      <th>2</th>\n",
       "      <td>0.0</td>\n",
       "      <td>1.0</td>\n",
       "      <td>1.0</td>\n",
       "      <td>0.0</td>\n",
       "      <td>1.0</td>\n",
       "      <td>0.0</td>\n",
       "      <td>0.0</td>\n",
       "      <td>1.0</td>\n",
       "      <td>0.0</td>\n",
       "      <td>0.0</td>\n",
       "      <td>...</td>\n",
       "      <td>1.0</td>\n",
       "      <td>0.0</td>\n",
       "      <td>1.0</td>\n",
       "      <td>0.0</td>\n",
       "      <td>1.0</td>\n",
       "      <td>0.0</td>\n",
       "      <td>0.0</td>\n",
       "      <td>1.0</td>\n",
       "      <td>0.0</td>\n",
       "      <td>1.0</td>\n",
       "    </tr>\n",
       "    <tr>\n",
       "      <th>3</th>\n",
       "      <td>1.0</td>\n",
       "      <td>0.0</td>\n",
       "      <td>1.0</td>\n",
       "      <td>0.0</td>\n",
       "      <td>1.0</td>\n",
       "      <td>0.0</td>\n",
       "      <td>1.0</td>\n",
       "      <td>0.0</td>\n",
       "      <td>0.0</td>\n",
       "      <td>0.0</td>\n",
       "      <td>...</td>\n",
       "      <td>1.0</td>\n",
       "      <td>0.0</td>\n",
       "      <td>1.0</td>\n",
       "      <td>0.0</td>\n",
       "      <td>1.0</td>\n",
       "      <td>0.0</td>\n",
       "      <td>1.0</td>\n",
       "      <td>0.0</td>\n",
       "      <td>1.0</td>\n",
       "      <td>0.0</td>\n",
       "    </tr>\n",
       "    <tr>\n",
       "      <th>4</th>\n",
       "      <td>1.0</td>\n",
       "      <td>0.0</td>\n",
       "      <td>0.0</td>\n",
       "      <td>1.0</td>\n",
       "      <td>0.0</td>\n",
       "      <td>1.0</td>\n",
       "      <td>0.0</td>\n",
       "      <td>1.0</td>\n",
       "      <td>0.0</td>\n",
       "      <td>0.0</td>\n",
       "      <td>...</td>\n",
       "      <td>0.0</td>\n",
       "      <td>1.0</td>\n",
       "      <td>1.0</td>\n",
       "      <td>0.0</td>\n",
       "      <td>0.0</td>\n",
       "      <td>1.0</td>\n",
       "      <td>0.0</td>\n",
       "      <td>1.0</td>\n",
       "      <td>1.0</td>\n",
       "      <td>0.0</td>\n",
       "    </tr>\n",
       "    <tr>\n",
       "      <th>...</th>\n",
       "      <td>...</td>\n",
       "      <td>...</td>\n",
       "      <td>...</td>\n",
       "      <td>...</td>\n",
       "      <td>...</td>\n",
       "      <td>...</td>\n",
       "      <td>...</td>\n",
       "      <td>...</td>\n",
       "      <td>...</td>\n",
       "      <td>...</td>\n",
       "      <td>...</td>\n",
       "      <td>...</td>\n",
       "      <td>...</td>\n",
       "      <td>...</td>\n",
       "      <td>...</td>\n",
       "      <td>...</td>\n",
       "      <td>...</td>\n",
       "      <td>...</td>\n",
       "      <td>...</td>\n",
       "      <td>...</td>\n",
       "      <td>...</td>\n",
       "    </tr>\n",
       "    <tr>\n",
       "      <th>518</th>\n",
       "      <td>0.0</td>\n",
       "      <td>1.0</td>\n",
       "      <td>1.0</td>\n",
       "      <td>0.0</td>\n",
       "      <td>0.0</td>\n",
       "      <td>1.0</td>\n",
       "      <td>1.0</td>\n",
       "      <td>0.0</td>\n",
       "      <td>0.0</td>\n",
       "      <td>0.0</td>\n",
       "      <td>...</td>\n",
       "      <td>0.0</td>\n",
       "      <td>1.0</td>\n",
       "      <td>0.0</td>\n",
       "      <td>1.0</td>\n",
       "      <td>0.0</td>\n",
       "      <td>1.0</td>\n",
       "      <td>0.0</td>\n",
       "      <td>1.0</td>\n",
       "      <td>1.0</td>\n",
       "      <td>0.0</td>\n",
       "    </tr>\n",
       "    <tr>\n",
       "      <th>519</th>\n",
       "      <td>0.0</td>\n",
       "      <td>1.0</td>\n",
       "      <td>1.0</td>\n",
       "      <td>0.0</td>\n",
       "      <td>1.0</td>\n",
       "      <td>0.0</td>\n",
       "      <td>1.0</td>\n",
       "      <td>0.0</td>\n",
       "      <td>0.0</td>\n",
       "      <td>0.0</td>\n",
       "      <td>...</td>\n",
       "      <td>1.0</td>\n",
       "      <td>0.0</td>\n",
       "      <td>1.0</td>\n",
       "      <td>0.0</td>\n",
       "      <td>1.0</td>\n",
       "      <td>0.0</td>\n",
       "      <td>1.0</td>\n",
       "      <td>0.0</td>\n",
       "      <td>0.0</td>\n",
       "      <td>1.0</td>\n",
       "    </tr>\n",
       "    <tr>\n",
       "      <th>520</th>\n",
       "      <td>0.0</td>\n",
       "      <td>1.0</td>\n",
       "      <td>1.0</td>\n",
       "      <td>0.0</td>\n",
       "      <td>1.0</td>\n",
       "      <td>0.0</td>\n",
       "      <td>1.0</td>\n",
       "      <td>0.0</td>\n",
       "      <td>0.0</td>\n",
       "      <td>0.0</td>\n",
       "      <td>...</td>\n",
       "      <td>1.0</td>\n",
       "      <td>0.0</td>\n",
       "      <td>1.0</td>\n",
       "      <td>0.0</td>\n",
       "      <td>1.0</td>\n",
       "      <td>0.0</td>\n",
       "      <td>1.0</td>\n",
       "      <td>0.0</td>\n",
       "      <td>1.0</td>\n",
       "      <td>0.0</td>\n",
       "    </tr>\n",
       "    <tr>\n",
       "      <th>521</th>\n",
       "      <td>0.0</td>\n",
       "      <td>1.0</td>\n",
       "      <td>1.0</td>\n",
       "      <td>0.0</td>\n",
       "      <td>1.0</td>\n",
       "      <td>0.0</td>\n",
       "      <td>1.0</td>\n",
       "      <td>0.0</td>\n",
       "      <td>0.0</td>\n",
       "      <td>0.0</td>\n",
       "      <td>...</td>\n",
       "      <td>1.0</td>\n",
       "      <td>0.0</td>\n",
       "      <td>1.0</td>\n",
       "      <td>0.0</td>\n",
       "      <td>0.0</td>\n",
       "      <td>1.0</td>\n",
       "      <td>0.0</td>\n",
       "      <td>1.0</td>\n",
       "      <td>0.0</td>\n",
       "      <td>1.0</td>\n",
       "    </tr>\n",
       "    <tr>\n",
       "      <th>522</th>\n",
       "      <td>1.0</td>\n",
       "      <td>0.0</td>\n",
       "      <td>1.0</td>\n",
       "      <td>0.0</td>\n",
       "      <td>1.0</td>\n",
       "      <td>0.0</td>\n",
       "      <td>1.0</td>\n",
       "      <td>0.0</td>\n",
       "      <td>0.0</td>\n",
       "      <td>0.0</td>\n",
       "      <td>...</td>\n",
       "      <td>1.0</td>\n",
       "      <td>0.0</td>\n",
       "      <td>1.0</td>\n",
       "      <td>0.0</td>\n",
       "      <td>1.0</td>\n",
       "      <td>0.0</td>\n",
       "      <td>1.0</td>\n",
       "      <td>0.0</td>\n",
       "      <td>1.0</td>\n",
       "      <td>0.0</td>\n",
       "    </tr>\n",
       "  </tbody>\n",
       "</table>\n",
       "<p>523 rows × 83 columns</p>\n",
       "</div>"
      ],
      "text/plain": [
       "      0    1    2    3    4    5    6    7    8    9   ...   73   74   75  \\\n",
       "0    0.0  1.0  1.0  0.0  0.0  1.0  1.0  0.0  0.0  0.0  ...  1.0  0.0  1.0   \n",
       "1    0.0  1.0  1.0  0.0  1.0  0.0  1.0  0.0  0.0  0.0  ...  1.0  0.0  1.0   \n",
       "2    0.0  1.0  1.0  0.0  1.0  0.0  0.0  1.0  0.0  0.0  ...  1.0  0.0  1.0   \n",
       "3    1.0  0.0  1.0  0.0  1.0  0.0  1.0  0.0  0.0  0.0  ...  1.0  0.0  1.0   \n",
       "4    1.0  0.0  0.0  1.0  0.0  1.0  0.0  1.0  0.0  0.0  ...  0.0  1.0  1.0   \n",
       "..   ...  ...  ...  ...  ...  ...  ...  ...  ...  ...  ...  ...  ...  ...   \n",
       "518  0.0  1.0  1.0  0.0  0.0  1.0  1.0  0.0  0.0  0.0  ...  0.0  1.0  0.0   \n",
       "519  0.0  1.0  1.0  0.0  1.0  0.0  1.0  0.0  0.0  0.0  ...  1.0  0.0  1.0   \n",
       "520  0.0  1.0  1.0  0.0  1.0  0.0  1.0  0.0  0.0  0.0  ...  1.0  0.0  1.0   \n",
       "521  0.0  1.0  1.0  0.0  1.0  0.0  1.0  0.0  0.0  0.0  ...  1.0  0.0  1.0   \n",
       "522  1.0  0.0  1.0  0.0  1.0  0.0  1.0  0.0  0.0  0.0  ...  1.0  0.0  1.0   \n",
       "\n",
       "      76   77   78   79   80   81   82  \n",
       "0    0.0  0.0  1.0  0.0  1.0  1.0  0.0  \n",
       "1    0.0  1.0  0.0  1.0  0.0  1.0  0.0  \n",
       "2    0.0  1.0  0.0  0.0  1.0  0.0  1.0  \n",
       "3    0.0  1.0  0.0  1.0  0.0  1.0  0.0  \n",
       "4    0.0  0.0  1.0  0.0  1.0  1.0  0.0  \n",
       "..   ...  ...  ...  ...  ...  ...  ...  \n",
       "518  1.0  0.0  1.0  0.0  1.0  1.0  0.0  \n",
       "519  0.0  1.0  0.0  1.0  0.0  0.0  1.0  \n",
       "520  0.0  1.0  0.0  1.0  0.0  1.0  0.0  \n",
       "521  0.0  0.0  1.0  0.0  1.0  0.0  1.0  \n",
       "522  0.0  1.0  0.0  1.0  0.0  1.0  0.0  \n",
       "\n",
       "[523 rows x 83 columns]"
      ]
     },
     "metadata": {},
     "output_type": "display_data"
    }
   ],
   "source": [
    "onehot = OneHotEncoder(handle_unknown='ignore')\n",
    "onehot.fit(T1D_exnan_age)\n",
    "T1D_exnan_age_oh = onehot.transform(T1D_exnan_age)\n",
    "T1D_exnan_age_oh = pd.DataFrame(T1D_exnan_age_oh.toarray())\n",
    "display(T1D_exnan_age_oh)"
   ]
  },
  {
   "cell_type": "markdown",
   "metadata": {},
   "source": [
    "In order to input the one-hot vectors to the model construction, we would like to stratify it for train and test data accordingly to the same random_state we have already done"
   ]
  },
  {
   "cell_type": "code",
   "execution_count": 10,
   "metadata": {
    "jupyter": {
     "source_hidden": true
    }
   },
   "outputs": [],
   "source": [
    "xtr_age, xte_age, ytr_age, yte_age = tts(T1D_exnan_age_oh, np.ravel(diagnosis), test_size=0.2, random_state=7, stratify=np.ravel(diagnosis))"
   ]
  },
  {
   "cell_type": "markdown",
   "metadata": {},
   "source": [
    "#### **Q5:**\n",
    "5. a. We will apply two different models starting with a linear model: Logistic regression."
   ]
  },
  {
   "cell_type": "code",
   "execution_count": 11,
   "metadata": {
    "jupyter": {
     "source_hidden": true
    }
   },
   "outputs": [
    {
     "data": {
      "text/plain": [
       "<Figure size 2160x2160 with 0 Axes>"
      ]
     },
     "metadata": {},
     "output_type": "display_data"
    }
   ],
   "source": [
    "L = 120\n",
    "K = 5\n",
    "C = np.linspace(3/L, 3, L)\n",
    "C[0] = 0.000001\n",
    "indnum = L*2\n",
    "penalty = ['l1','l2']\n",
    "se, sp = np.zeros((L,1)), np.zeros((L,1))\n",
    "fig = plt.figure(figsize=(30,30))\n",
    "kf = SKFold(n_splits=K)\n",
    "validation_dict_lr = []\n",
    "validation_dict_age_lr = []\n",
    "valdf_lr = pd.DataFrame(columns=('C', 'penalty', 'AUC', 'ACC', 'LogLoss', 'F1'))\n",
    "valdf_age_lr = pd.DataFrame(columns=('C', 'penalty', 'AUC', 'ACC', 'LogLoss', 'F1'))\n",
    "ind = 0\n",
    "for ii, cc in enumerate(C):\n",
    "        for p in penalty:\n",
    "            logloss, logloss_age = np.zeros(K), np.zeros(K)\n",
    "            acc, acc_age = np.zeros(K), np.zeros(K)\n",
    "            auc, auc_age = np.zeros(K), np.zeros(K)\n",
    "            f1, f1_age = np.zeros(K), np.zeros(K)\n",
    "            k = 0\n",
    "            for train_idx, val_idx in kf.split(xtr, ytr):\n",
    "                x_train, x_val, x_age_train, x_age_val = xtr.iloc[train_idx], xtr.iloc[val_idx], xtr_age.iloc[train_idx], xtr_age.iloc[val_idx]\n",
    "                logreg = LogisticRegression(solver='saga', penalty=p, max_iter=10000, C=cc)\n",
    "                logreg_age = LogisticRegression(solver='saga', penalty=p, max_iter=10000, C=cc)\n",
    "                logreg.fit(x_train, ytr[train_idx])\n",
    "                logreg_age.fit(x_age_train, ytr_age[train_idx])\n",
    "                y_pred_log, y_age_pred_log = logreg.predict(x_val), logreg_age.predict(x_age_val)\n",
    "                y_predproba_log, y_age_predproba_log = logreg.predict_proba(x_val), logreg_age.predict_proba(x_age_val)\n",
    "                y_val_log, y_age_val_log = ytr[val_idx], ytr_age[val_idx]\n",
    "                acc[k], acc_age[k] = metrics.accuracy_score(y_val_log, y_pred_log), metrics.accuracy_score(y_age_val_log, y_age_pred_log)\n",
    "                f1[k], f1_age[k] = metrics.f1_score(y_val_log, y_pred_log), metrics.f1_score(y_age_val_log, y_age_pred_log)\n",
    "                logloss[k], logloss_age[k] = metrics.log_loss(y_val_log, y_predproba_log), metrics.log_loss(y_age_val_log, y_age_predproba_log)\n",
    "                auc[k], auc_age[k] = metrics.roc_auc_score(y_val_log, y_predproba_log[:,1]), metrics.roc_auc_score(y_age_val_log, y_age_predproba_log[:,1]) \n",
    "                k+=1\n",
    "            validation_dict_lr.append({'C': cc, 'penalty': p, 'logloss' : logloss.mean(), 'Accuracy' : acc.mean(), 'F1' : f1.mean(),\n",
    "                                   'AUC' : auc.mean()})\n",
    "            validation_dict_lr.append({'C': cc, 'penalty': p, 'logloss' : logloss_age.mean(), 'Accuracy' : acc_age.mean(), 'F1' : f1_age.mean(),\n",
    "                                   'AUC' : auc_age.mean()})            \n",
    "            valdf_lr.loc[ind, :] = cc, p, auc.mean(), acc.mean(), logloss.mean(), f1.mean()\n",
    "            valdf_age_lr.loc[ind, :] = cc, p, auc_age.mean(), acc_age.mean(), logloss_age.mean(), f1_age.mean()\n",
    "            ind+=1\n",
    "            "
   ]
  },
  {
   "cell_type": "code",
   "execution_count": 12,
   "metadata": {
    "jupyter": {
     "source_hidden": true
    }
   },
   "outputs": [
    {
     "data": {
      "text/html": [
       "<div>\n",
       "<style scoped>\n",
       "    .dataframe tbody tr th:only-of-type {\n",
       "        vertical-align: middle;\n",
       "    }\n",
       "\n",
       "    .dataframe tbody tr th {\n",
       "        vertical-align: top;\n",
       "    }\n",
       "\n",
       "    .dataframe thead th {\n",
       "        text-align: right;\n",
       "    }\n",
       "</style>\n",
       "<table border=\"1\" class=\"dataframe\">\n",
       "  <thead>\n",
       "    <tr style=\"text-align: right;\">\n",
       "      <th></th>\n",
       "      <th>C</th>\n",
       "      <th>penalty</th>\n",
       "      <th>AUC</th>\n",
       "      <th>ACC</th>\n",
       "      <th>LogLoss</th>\n",
       "      <th>F1</th>\n",
       "    </tr>\n",
       "  </thead>\n",
       "  <tbody>\n",
       "    <tr>\n",
       "      <th>0</th>\n",
       "      <td>1e-06</td>\n",
       "      <td>l1</td>\n",
       "      <td>0.5</td>\n",
       "      <td>0.614831</td>\n",
       "      <td>0.670326</td>\n",
       "      <td>0.761471</td>\n",
       "    </tr>\n",
       "    <tr>\n",
       "      <th>1</th>\n",
       "      <td>1e-06</td>\n",
       "      <td>l2</td>\n",
       "      <td>0.931582</td>\n",
       "      <td>0.614831</td>\n",
       "      <td>0.66654</td>\n",
       "      <td>0.761471</td>\n",
       "    </tr>\n",
       "    <tr>\n",
       "      <th>2</th>\n",
       "      <td>0.05</td>\n",
       "      <td>l1</td>\n",
       "      <td>0.939332</td>\n",
       "      <td>0.851434</td>\n",
       "      <td>0.405501</td>\n",
       "      <td>0.873607</td>\n",
       "    </tr>\n",
       "    <tr>\n",
       "      <th>3</th>\n",
       "      <td>0.05</td>\n",
       "      <td>l2</td>\n",
       "      <td>0.958847</td>\n",
       "      <td>0.88973</td>\n",
       "      <td>0.351774</td>\n",
       "      <td>0.909689</td>\n",
       "    </tr>\n",
       "    <tr>\n",
       "      <th>4</th>\n",
       "      <td>0.075</td>\n",
       "      <td>l1</td>\n",
       "      <td>0.93884</td>\n",
       "      <td>0.875301</td>\n",
       "      <td>0.350019</td>\n",
       "      <td>0.900933</td>\n",
       "    </tr>\n",
       "    <tr>\n",
       "      <th>...</th>\n",
       "      <td>...</td>\n",
       "      <td>...</td>\n",
       "      <td>...</td>\n",
       "      <td>...</td>\n",
       "      <td>...</td>\n",
       "      <td>...</td>\n",
       "    </tr>\n",
       "    <tr>\n",
       "      <th>235</th>\n",
       "      <td>2.95</td>\n",
       "      <td>l2</td>\n",
       "      <td>0.967815</td>\n",
       "      <td>0.925674</td>\n",
       "      <td>0.216197</td>\n",
       "      <td>0.938708</td>\n",
       "    </tr>\n",
       "    <tr>\n",
       "      <th>236</th>\n",
       "      <td>2.975</td>\n",
       "      <td>l1</td>\n",
       "      <td>0.968331</td>\n",
       "      <td>0.911388</td>\n",
       "      <td>0.21843</td>\n",
       "      <td>0.926859</td>\n",
       "    </tr>\n",
       "    <tr>\n",
       "      <th>237</th>\n",
       "      <td>2.975</td>\n",
       "      <td>l2</td>\n",
       "      <td>0.967815</td>\n",
       "      <td>0.925674</td>\n",
       "      <td>0.216177</td>\n",
       "      <td>0.938708</td>\n",
       "    </tr>\n",
       "    <tr>\n",
       "      <th>238</th>\n",
       "      <td>3</td>\n",
       "      <td>l1</td>\n",
       "      <td>0.968331</td>\n",
       "      <td>0.911388</td>\n",
       "      <td>0.218457</td>\n",
       "      <td>0.926859</td>\n",
       "    </tr>\n",
       "    <tr>\n",
       "      <th>239</th>\n",
       "      <td>3</td>\n",
       "      <td>l2</td>\n",
       "      <td>0.967815</td>\n",
       "      <td>0.925674</td>\n",
       "      <td>0.216157</td>\n",
       "      <td>0.938708</td>\n",
       "    </tr>\n",
       "  </tbody>\n",
       "</table>\n",
       "<p>240 rows × 6 columns</p>\n",
       "</div>"
      ],
      "text/plain": [
       "         C penalty       AUC       ACC   LogLoss        F1\n",
       "0    1e-06      l1       0.5  0.614831  0.670326  0.761471\n",
       "1    1e-06      l2  0.931582  0.614831   0.66654  0.761471\n",
       "2     0.05      l1  0.939332  0.851434  0.405501  0.873607\n",
       "3     0.05      l2  0.958847   0.88973  0.351774  0.909689\n",
       "4    0.075      l1   0.93884  0.875301  0.350019  0.900933\n",
       "..     ...     ...       ...       ...       ...       ...\n",
       "235   2.95      l2  0.967815  0.925674  0.216197  0.938708\n",
       "236  2.975      l1  0.968331  0.911388   0.21843  0.926859\n",
       "237  2.975      l2  0.967815  0.925674  0.216177  0.938708\n",
       "238      3      l1  0.968331  0.911388  0.218457  0.926859\n",
       "239      3      l2  0.967815  0.925674  0.216157  0.938708\n",
       "\n",
       "[240 rows x 6 columns]"
      ]
     },
     "metadata": {},
     "output_type": "display_data"
    }
   ],
   "source": [
    "display(valdf_lr)"
   ]
  },
  {
   "cell_type": "code",
   "execution_count": 13,
   "metadata": {
    "jupyter": {
     "source_hidden": true
    }
   },
   "outputs": [
    {
     "data": {
      "text/plain": [
       "(0.45, 1.0)"
      ]
     },
     "execution_count": 13,
     "metadata": {},
     "output_type": "execute_result"
    },
    {
     "data": {
      "image/png": "[encoded data removed]",
      "text/plain": [
       "<Figure size 864x504 with 1 Axes>"
      ]
     },
     "metadata": {},
     "output_type": "display_data"
    }
   ],
   "source": [
    "fig, ax = plt.subplots(figsize=(12, 7))\n",
    "mpl.style.use('fivethirtyeight')\n",
    "plt1=plt.plot(valdf_lr['C'].loc[valdf_lr['penalty']=='l1'], valdf_lr['AUC'].loc[valdf_lr['penalty']=='l1'], label='Lin. class.: LogReg Age- <L1 penalty>')\n",
    "plt2=plt.plot(valdf_lr['C'].loc[valdf_lr['penalty']=='l2'], valdf_lr['AUC'].loc[valdf_lr['penalty']=='l2'], label='Lin. class.: LogReg Age- <L2 penalty>')\n",
    "plt3=plt.plot(valdf_age_lr['C'].loc[valdf_age_lr['penalty']=='l1'], valdf_age_lr['AUC'].loc[valdf_age_lr['penalty']=='l1'], label='Lin. class.: LogReg Age+ <L1 penalty>')\n",
    "plt4=plt.plot(valdf_age_lr['C'].loc[valdf_age_lr['penalty']=='l2'], valdf_age_lr['AUC'].loc[valdf_age_lr['penalty']=='l2'], label='Lin. class.: LogReg Age+ <L2 penalty>')\n",
    "plt.xlabel('C')\n",
    "plt.ylabel('AUC')\n",
    "plt.legend()\n",
    "ax.yaxis.set_major_locator(MultipleLocator(0.05))\n",
    "ax.grid(which='major', color='#CCCCCC', linestyle='--')\n",
    "ax.grid(which='minor', color='#CCCCCC', linestyle=':')\n",
    "ax.set_ylim(0.45, 1)"
   ]
  },
  {
   "cell_type": "markdown",
   "metadata": {},
   "source": [
    "**untill now, we conducted manual parameter tuning and observed the above graph and noticed that the best model would be without taking into consideration the Age feature and using L2 penalty (for the logistic regression model). Now we want to apply an objective and automatic model selection based on GridSearchCV, also two parallel computations with and without age feature.**"
   ]
  },
  {
   "cell_type": "markdown",
   "metadata": {},
   "source": [
    "##### Excluding the Age feature:"
   ]
  },
  {
   "cell_type": "code",
   "execution_count": 14,
   "metadata": {},
   "outputs": [],
   "source": [
    "estimator_lr = LogisticRegression(solver='saga', max_iter=10000)\n",
    "params_dict = {\n",
    "    'C'      : np.linspace(0.01, 3, 100), \n",
    "    'penalty'  : ['l1', 'l2']\n",
    "}\n",
    "clf_lr = GridSearchCV(estimator_lr, params_dict, scoring='roc_auc')\n",
    "clf_lr.fit(xtr, ytr)\n",
    "clf_lr.best_estimator_\n",
    "best_lr = clf_lr.best_params_"
   ]
  },
  {
   "cell_type": "code",
   "execution_count": 15,
   "metadata": {},
   "outputs": [
    {
     "name": "stdout",
     "output_type": "stream",
     "text": [
      "Best parameters: C= 1.58, penalty=l1 with score=0.96929\n"
     ]
    }
   ],
   "source": [
    "print(\"Best parameters: C= \" + str(\"{0:.2f}\".format(best_lr['C'])) + \n",
    "      \", penalty=\" + str(best_lr['penalty']) + \" with score=\"  + str(\"{0:.5f}\".format(clf_lr.best_score_)))"
   ]
  },
  {
   "cell_type": "markdown",
   "metadata": {},
   "source": [
    "##### Including the Age feature:"
   ]
  },
  {
   "cell_type": "code",
   "execution_count": 16,
   "metadata": {},
   "outputs": [],
   "source": [
    "estimator_lr_age = LogisticRegression(solver='saga', max_iter=10000)\n",
    "params_dict = {\n",
    "    'C'      : np.linspace(0.01, 3, 100), \n",
    "    'penalty'  : ['l1', 'l2']\n",
    "}\n",
    "clf_lr_age = GridSearchCV(estimator_lr_age, params_dict, scoring='roc_auc')\n",
    "clf_lr_age.fit(xtr_age, ytr_age)\n",
    "clf_lr_age.best_estimator_\n",
    "best_lr_age = clf_lr_age.best_params_"
   ]
  },
  {
   "cell_type": "code",
   "execution_count": 17,
   "metadata": {},
   "outputs": [
    {
     "name": "stdout",
     "output_type": "stream",
     "text": [
      "Best parameters: C= 1.58, penalty=l1 with score=0.97098\n"
     ]
    }
   ],
   "source": [
    "print(\"Best parameters: C = \" + str(\"{0:.2f}\".format(best_lr_age['C'])) + \n",
    "      \", penalty = \" + str(best_lr_age['penalty']) + \" with score=\"  + str(\"{0:.5f}\".format(clf_lr_age.best_score_)))"
   ]
  },
  {
   "cell_type": "markdown",
   "metadata": {},
   "source": [
    "##### Next, we will apply a non-linear model to the dataset -> SVM:  #####"
   ]
  },
  {
   "cell_type": "code",
   "execution_count": 18,
   "metadata": {
    "jupyter": {
     "source_hidden": true
    }
   },
   "outputs": [
    {
     "data": {
      "text/plain": [
       "<Figure size 2160x2160 with 0 Axes>"
      ]
     },
     "metadata": {},
     "output_type": "display_data"
    }
   ],
   "source": [
    "L = 120\n",
    "K = 5\n",
    "C = np.linspace(3/L, 3, L)\n",
    "C[0] = 0.000001\n",
    "kernel=['linear', 'poly', 'rbf', 'sigmoid']\n",
    "indnum = L*np.shape(kernel)\n",
    "se, sp = np.zeros((L,1)), np.zeros((L,1))\n",
    "fig = plt.figure(figsize=(30,30))\n",
    "kf = SKFold(n_splits=K)\n",
    "validation_dict_svm = []\n",
    "validation_age_dict_svm = []\n",
    "valdf_svm = pd.DataFrame(columns=('C', 'kernel', 'AUC', 'ACC', 'Hinge Loss', 'F1'))\n",
    "valdf_age_svm = pd.DataFrame(columns=('C', 'kernel', 'AUC', 'ACC', 'Hinge Loss', 'F1'))\n",
    "ind = 0\n",
    "for ii, cc in enumerate(C):\n",
    "        for kk in kernel:\n",
    "            hingeloss, hingeloss_age = np.zeros(K), np.zeros(K)\n",
    "            acc, acc_age = np.zeros(K), np.zeros(K)\n",
    "            auc, auc_age = np.zeros(K), np.zeros(K)\n",
    "            f1, f1_age = np.zeros(K), np.zeros(K)\n",
    "            k = 0\n",
    "            for train_idx, val_idx in kf.split(xtr, ytr):\n",
    "                x_train, x_val, x_age_train, x_age_val = xtr.iloc[train_idx], xtr.iloc[val_idx], xtr_age.iloc[train_idx], xtr_age.iloc[val_idx]\n",
    "                clf = svm.SVC(C=cc, kernel=kk, probability=True)\n",
    "                clf_age = svm.SVC(C=cc, kernel=kk, probability=True)\n",
    "                clf.fit(x_train, ytr[train_idx])\n",
    "                clf_age.fit(x_age_train, ytr_age[train_idx])\n",
    "                y_pred_svm = clf.predict(x_val)\n",
    "                y_predproba_svm = clf.predict_proba(x_val)\n",
    "                y_age_pred_svm = clf_age.predict(x_age_val)\n",
    "                y_age_predproba_svm = clf_age.predict_proba(x_age_val)\n",
    "                y_val_svm, y_age_val_svm = ytr[val_idx], ytr_age[val_idx]\n",
    "                acc[k], acc_age[k] = metrics.accuracy_score(y_val_svm, y_pred_svm), metrics.accuracy_score(y_age_val_svm, y_age_pred_svm)\n",
    "                f1[k], f1_age[k] = metrics.f1_score(y_val_svm, y_pred_svm), metrics.f1_score(y_age_val_svm, y_age_pred_svm)\n",
    "                hingeloss[k], hingeloss_age[k] = metrics.hinge_loss(y_val_svm, y_pred_svm), metrics.hinge_loss(y_age_val_svm, y_age_pred_svm)\n",
    "                auc[k], auc_age[k] = metrics.roc_auc_score(y_val_svm,  y_predproba_svm[:,1]), metrics.roc_auc_score(y_age_val_svm, y_age_predproba_svm[:,1])\n",
    "                k+=1\n",
    "            validation_dict_svm.append({'C': cc, 'kernel': kk, 'Hinge Loss' : logloss.mean(), 'Accuracy' : acc.mean(), 'F1' : f1.mean(),\n",
    "                                   'AUC' : auc.mean()})\n",
    "            validation_age_dict_svm.append({'C': cc, 'kernel': kk, 'Hinge Loss' : logloss_age.mean(), 'Accuracy' : acc_age.mean(), 'F1' : f1_age.mean(),\n",
    "                                   'AUC' : auc_age.mean()})\n",
    "            valdf_svm.loc[ind, :] = cc, kk, auc.mean(), acc.mean(), hingeloss.mean(), f1.mean()\n",
    "            valdf_age_svm.loc[ind, :] = cc, kk, auc_age.mean(), acc_age.mean(), hingeloss_age.mean(), f1_age.mean()\n",
    "            ind+=1\n",
    "            "
   ]
  },
  {
   "cell_type": "code",
   "execution_count": 19,
   "metadata": {
    "jupyter": {
     "source_hidden": true
    }
   },
   "outputs": [
    {
     "data": {
      "text/plain": [
       "<matplotlib.legend.Legend at 0x2dbf8aaf808>"
      ]
     },
     "execution_count": 19,
     "metadata": {},
     "output_type": "execute_result"
    },
    {
     "data": {
      "image/png": "[encoded data removed]",
      "text/plain": [
       "<Figure size 864x504 with 1 Axes>"
      ]
     },
     "metadata": {},
     "output_type": "display_data"
    }
   ],
   "source": [
    "fig2, ax2 = plt.subplots(figsize=(12, 7))\n",
    "plt5 = plt.plot(valdf_svm['C'].loc[valdf_svm['kernel']=='linear'], valdf_svm['AUC'].loc[valdf_svm['kernel']=='linear'], label='Linear kernel')\n",
    "plt6 = plt.plot(valdf_svm['C'].loc[valdf_svm['kernel']=='poly'], valdf_svm['AUC'].loc[valdf_svm['kernel']=='poly'], label='Polynomial kernel')\n",
    "plt7 = plt.plot(valdf_svm['C'].loc[valdf_svm['kernel']=='rbf'], valdf_svm['AUC'].loc[valdf_svm['kernel']=='rbf'], label='RBF kernel')\n",
    "plt8 = plt.plot(valdf_svm['C'].loc[valdf_svm['kernel']=='sigmoid'], valdf_svm['AUC'].loc[valdf_svm['kernel']=='sigmoid'], label='Sigmoid kernel')\n",
    "plt5 = plt.plot(valdf_age_svm['C'].loc[valdf_age_svm['kernel']=='linear'], valdf_age_svm['AUC'].loc[valdf_age_svm['kernel']=='linear'], label='Linear kernel age+')\n",
    "plt6 = plt.plot(valdf_age_svm['C'].loc[valdf_age_svm['kernel']=='poly'], valdf_age_svm['AUC'].loc[valdf_age_svm['kernel']=='poly'], label='Polynomial kernel age+')\n",
    "plt7 = plt.plot(valdf_age_svm['C'].loc[valdf_age_svm['kernel']=='rbf'], valdf_age_svm['AUC'].loc[valdf_age_svm['kernel']=='rbf'], label='RBF kernel age+')\n",
    "plt8 = plt.plot(valdf_age_svm['C'].loc[valdf_age_svm['kernel']=='sigmoid'], valdf_age_svm['AUC'].loc[valdf_age_svm['kernel']=='sigmoid'], label='Sigmoid kernel age+')\n",
    "mpl.style.use('fivethirtyeight')\n",
    "plt.xlabel('C')\n",
    "plt.ylabel('AUC')\n",
    "ax2.yaxis.set_major_locator(MultipleLocator(0.05))\n",
    "ax.grid(which='major', color='#CCCCCC', linestyle='--')\n",
    "ax.grid(which='minor', color='#CCCCCC', linestyle=':')\n",
    "ax2.set_ylim(0.45, 1)\n",
    "plt.legend()"
   ]
  },
  {
   "cell_type": "markdown",
   "metadata": {},
   "source": [
    "Now, after we've done the preliminary comparison of the SVM models (based on their various kernels and varying C), we want to further test the complex kernels (poly, rbf, sigmoid) which leverage another hyperparameter- Gamma."
   ]
  },
  {
   "cell_type": "markdown",
   "metadata": {},
   "source": [
    "**excluding age feature**:"
   ]
  },
  {
   "cell_type": "code",
   "execution_count": 20,
   "metadata": {
    "jupyter": {
     "source_hidden": true
    }
   },
   "outputs": [],
   "source": [
    "estimator_svm = svm.SVC()\n",
    "params_dict = {\n",
    "    'kernel' : ['poly', 'sigmoid', 'rbf'], \n",
    "    'C'      : np.linspace(0.01, 3, 100), \n",
    "    'gamma'  : np.linspace(0.01, 3, 100)\n",
    "}\n",
    "clf_svm = GridSearchCV(estimator_svm, params_dict, scoring='roc_auc')\n",
    "clf_svm.fit(xtr, ytr)\n",
    "clf_svm.best_estimator_\n",
    "best_svm = clf_svm.best_params_"
   ]
  },
  {
   "cell_type": "code",
   "execution_count": 21,
   "metadata": {
    "jupyter": {
     "source_hidden": true
    }
   },
   "outputs": [
    {
     "name": "stdout",
     "output_type": "stream",
     "text": [
      "Best parameters: C = 2.64 gamma= 0.31, kernel=rbf with score=0.99623\n"
     ]
    }
   ],
   "source": [
    "print(\"Best parameters: C = \" + str(\"{0:.2f}\".format(best_svm['C'])) + \" gamma= \" + str(\"{0:.2f}\".format(best_svm['gamma'])) +\n",
    "      \", kernel=\" + best_svm['kernel'] + \" with score=\"  + str(\"{0:.5f}\".format(clf_svm.best_score_)))"
   ]
  },
  {
   "cell_type": "markdown",
   "metadata": {},
   "source": [
    "**including age feature**:"
   ]
  },
  {
   "cell_type": "code",
   "execution_count": 23,
   "metadata": {
    "jupyter": {
     "source_hidden": true
    }
   },
   "outputs": [],
   "source": [
    "estimator_svm_age = svm.SVC()\n",
    "params_dict = {\n",
    "    'kernel' : ['poly', 'sigmoid', 'rbf'], \n",
    "    'C'      : np.linspace(0.01, 3, 100), \n",
    "    'gamma'  : np.linspace(0.01, 3, 100),\n",
    "}\n",
    "clf_svm_age = GridSearchCV(estimator_svm_age, params_dict)\n",
    "clf_svm_age.fit(xtr_age, ytr_age)\n",
    "clf_svm_age.best_estimator_\n",
    "best_svm_age = clf_svm_age.best_params_"
   ]
  },
  {
   "cell_type": "code",
   "execution_count": 25,
   "metadata": {
    "jupyter": {
     "source_hidden": true
    }
   },
   "outputs": [
    {
     "name": "stdout",
     "output_type": "stream",
     "text": [
      "Best parameters: C = 1.25, gamma = 0.28, kernel=rbf with score=0.98087\n"
     ]
    }
   ],
   "source": [
    "print(\"Best parameters: C = \" + str(\"{0:.2f}\".format(best_svm_age['C'])) + \", gamma = \" + str(\"{0:.2f}\".format(best_svm_age['gamma'])) +\n",
    "      \", kernel=\" + str(best_svm_age['kernel']) + \" with score=\"  + str(\"{0:.5f}\".format(clf_svm_age.best_score_)))"
   ]
  },
  {
   "cell_type": "code",
   "execution_count": null,
   "metadata": {
    "jupyter": {
     "source_hidden": true
    }
   },
   "outputs": [],
   "source": [
    "#In order to observe the contrast we shall overlay the AUC plots"
   ]
  },
  {
   "cell_type": "code",
   "execution_count": null,
   "metadata": {
    "jupyter": {
     "source_hidden": true
    }
   },
   "outputs": [],
   "source": [
    "#from collections import OrderedDict\n",
    "#fig, ax = plt.subplots(figsize=(12, 7))\n",
    "#mpl.style.use('fivethirtyeight')\n",
    "#ax.set_title('Receiver-operator AUC of all Classifiers'.format('seaborn'), color='C3')\n",
    "#plt1 = plt.plot(valdf_lr['C'].loc[valdf_lr['penalty']=='l1'], valdf_lr['AUC'].loc[valdf_lr['penalty']=='l1'], label='Lin. class.:: LogReg Age- <L1 penalty>', color = 'darkkhaki')\n",
    "#plt2 = plt.plot(valdf_lr['C'].loc[valdf_lr['penalty']=='l2'], valdf_lr['AUC'].loc[valdf_lr['penalty']=='l2'], label='Lin. class.:: LogReg Age- <L2 penalty>', color = 'olive')\n",
    "#plt3 = plt.plot(valdf_age_lr['C'].loc[valdf_age_lr['penalty']=='l1'], valdf_age_lr['AUC'].loc[valdf_age_lr['penalty']=='l1'], label='Lin. class.: LogReg Age+ <L1 penalty>', color = 'mediumseagreen')\n",
    "#plt4 = plt.plot(valdf_age_lr['C'].loc[valdf_age_lr['penalty']=='l2'], valdf_age_lr['AUC'].loc[valdf_age_lr['penalty']=='l2'], label='Lin. class.: LogReg Age+ <L2 penalty>', color = 'darkgreen')\n",
    "#plt5 = plt.plot(valdf_svm['C'].loc[valdf_svm['kernel']=='linear'], valdf_svm['AUC'].loc[valdf_svm['kernel']=='linear'], label='Nonlin. class.:: SVM Age- <Lin. kernel>', color = 'aquamarine')\n",
    "#plt6 = plt.plot(valdf_svm['C'].loc[valdf_svm['kernel']=='poly'], valdf_svm['AUC'].loc[valdf_svm['kernel']=='poly'], label='Nonlin. class.:: SVM Age- <Poly. kernel>', color = 'turquoise')\n",
    "#plt7 = plt.plot(valdf_svm['C'].loc[valdf_svm['kernel']=='rbf'], valdf_svm['AUC'].loc[valdf_svm['kernel']=='rbf'], label='Nonlin. class.:: SVM Age- <RBF kernel>', color = 'lightseagreen')\n",
    "#plt8 = plt.plot(valdf_svm['C'].loc[valdf_svm['kernel']=='sigmoid'], valdf_svm['AUC'].loc[valdf_svm['kernel']=='sigmoid'], label='Nonlin. class.:: SVM Age- <Sigm. kernel>', color = 'darkcyan')\n",
    "#plt9 = plt.plot(valdf_age_svm['C'].loc[valdf_age_svm['kernel']=='linear'], valdf_age_svm['AUC'].loc[valdf_age_svm['kernel']=='linear'], label='Nonlin. class.:: SVM Age+ <Lin. kernel>', color = 'thistle')\n",
    "#plt10 = plt.plot(valdf_age_svm['C'].loc[valdf_age_svm['kernel']=='poly'], valdf_age_svm['AUC'].loc[valdf_age_svm['kernel']=='poly'], label='Nonlin. class.:: SVM Age+ <Poly. kernel>', color = 'plum')\n",
    "#plt11 = plt.plot(valdf_age_svm['C'].loc[valdf_age_svm['kernel']=='rbf'], valdf_age_svm['AUC'].loc[valdf_age_svm['kernel']=='rbf'], label='Nonlin. class.:: SVM Age+ <RBF kernel>', color = 'violet')\n",
    "#plt12 = plt.plot(valdf_age_svm['C'].loc[valdf_age_svm['kernel']=='sigmoid'], valdf_age_svm['AUC'].loc[valdf_age_svm['kernel']=='sigmoid'], label='Nonlin. class.:: SVM Age+ <Sigm. kernel>', color = 'purple')\n",
    "#plt.xlabel('C')\n",
    "#plt.ylabel('AUC')\n",
    "#ax.yaxis.set_major_locator(MultipleLocator(0.05))\n",
    "#ax.grid(which='major', color='#CCCCCC', linestyle='--')\n",
    "#ax.grid(which='minor', color='#CCCCCC', linestyle=':')\n",
    "#ax.set_ylim(0.45, 1)    \n",
    "#ax.legend()    "
   ]
  },
  {
   "cell_type": "markdown",
   "metadata": {},
   "source": [
    "5. b. the interim results based on the training data are listed: note that including or excluding the Age feature gave much similar results and due to it's computational labor, we decided to neglect the age.\n",
    "    "
   ]
  },
  {
   "cell_type": "code",
   "execution_count": 26,
   "metadata": {},
   "outputs": [
    {
     "name": "stdout",
     "output_type": "stream",
     "text": [
      "i- Lin. Class.: Logistic regression with l1 penalty and regularization parameter C = 1.58\n",
      "ii- Nonlin. Class.: SVM classifier with rbf kernel, regularization parameter C = 2.64 and gamma = 0.31\n"
     ]
    }
   ],
   "source": [
    "print(\"i- Lin. Class.: Logistic regression with \" +  best_lr['penalty'] +\" penalty and regularization parameter C = \" +   str(\"{0:.2f}\".format(best_lr['C'])))\n",
    "print(\"ii- Nonlin. Class.: SVM classifier with \" + best_svm['kernel'] +\" kernel, regularization parameter C = \" + str(\"{0:.2f}\".format(best_svm['C'])) +\" and gamma = \" + str(\"{0:.2f}\".format(best_svm['gamma'])))\n",
    "    "
   ]
  },
  {
   "cell_type": "markdown",
   "metadata": {},
   "source": [
    "Next, we will report the evaluation metrics for the models mentioned above. First, we will train the models on the training set then report the metrics for classifying the train set itself. Second, we will report the metrics for the test set classification."
   ]
  },
  {
   "cell_type": "markdown",
   "metadata": {},
   "source": [
    "##### Now, let us report the metrics for classifying the two best models:"
   ]
  },
  {
   "cell_type": "markdown",
   "metadata": {},
   "source": [
    "* for the linear classifier LR: \n"
   ]
  },
  {
   "cell_type": "code",
   "execution_count": 27,
   "metadata": {
    "jupyter": {
     "source_hidden": true
    }
   },
   "outputs": [
    {
     "data": {
      "text/html": [
       "<div>\n",
       "<style scoped>\n",
       "    .dataframe tbody tr th:only-of-type {\n",
       "        vertical-align: middle;\n",
       "    }\n",
       "\n",
       "    .dataframe tbody tr th {\n",
       "        vertical-align: top;\n",
       "    }\n",
       "\n",
       "    .dataframe thead th {\n",
       "        text-align: right;\n",
       "    }\n",
       "</style>\n",
       "<table border=\"1\" class=\"dataframe\">\n",
       "  <thead>\n",
       "    <tr style=\"text-align: right;\">\n",
       "      <th></th>\n",
       "      <th>C</th>\n",
       "      <th>penalty</th>\n",
       "      <th>AUC</th>\n",
       "      <th>ACC</th>\n",
       "      <th>LogLoss</th>\n",
       "      <th>F1</th>\n",
       "    </tr>\n",
       "  </thead>\n",
       "  <tbody>\n",
       "    <tr>\n",
       "      <th>Train</th>\n",
       "      <td>1.58051</td>\n",
       "      <td>l1</td>\n",
       "      <td>0.979336</td>\n",
       "      <td>0.933014</td>\n",
       "      <td>0.180184</td>\n",
       "      <td>0.944882</td>\n",
       "    </tr>\n",
       "    <tr>\n",
       "      <th>Test</th>\n",
       "      <td>1.58051</td>\n",
       "      <td>l1</td>\n",
       "      <td>0.98247</td>\n",
       "      <td>0.942857</td>\n",
       "      <td>0.165017</td>\n",
       "      <td>0.952381</td>\n",
       "    </tr>\n",
       "  </tbody>\n",
       "</table>\n",
       "</div>"
      ],
      "text/plain": [
       "             C penalty       AUC       ACC   LogLoss        F1\n",
       "Train  1.58051      l1  0.979336  0.933014  0.180184  0.944882\n",
       "Test   1.58051      l1   0.98247  0.942857  0.165017  0.952381"
      ]
     },
     "metadata": {},
     "output_type": "display_data"
    }
   ],
   "source": [
    "C = best_lr['C']\n",
    "penalty=best_lr['penalty']\n",
    "testdf_lr = pd.DataFrame(index=('Train', 'Test'), columns=('C', 'penalty', 'AUC', 'ACC', 'LogLoss', 'F1'))\n",
    "LR = LogisticRegression(solver='saga', penalty=penalty, max_iter=10000, C=C)\n",
    "LR.fit(xtr, ytr)\n",
    "\n",
    "y_pred_lr = LR.predict(xtr)\n",
    "y_predproba_lr = LR.predict_proba(xtr)\n",
    "acc = metrics.accuracy_score(ytr, y_pred_lr)\n",
    "f1 = metrics.f1_score(ytr, y_pred_lr)\n",
    "logloss = metrics.log_loss(ytr, y_predproba_lr)\n",
    "auc = metrics.roc_auc_score(ytr,  y_predproba_lr[:,1])\n",
    "testdf_lr.loc['Train', :] = C, penalty, auc, acc, logloss, f1\n",
    "\n",
    "y_pred_lr = LR.predict(xte)\n",
    "y_predproba_lr = LR.predict_proba(xte)\n",
    "acc = metrics.accuracy_score(yte, y_pred_lr)\n",
    "f1 = metrics.f1_score(yte, y_pred_lr)\n",
    "logloss = metrics.log_loss(yte, y_predproba_lr)\n",
    "auc = metrics.roc_auc_score(yte,  y_predproba_lr[:,1])\n",
    "testdf_lr.loc['Test', :] = C, penalty, auc, acc, logloss, f1\n",
    "\n",
    "\n",
    "display(testdf_lr)"
   ]
  },
  {
   "cell_type": "markdown",
   "metadata": {},
   "source": [
    "note: the test set got better results from the train, which can be surprising. But, let us recall that the training and searching for the best model used a K-fold procedure and not the raw train set.    "
   ]
  },
  {
   "cell_type": "markdown",
   "metadata": {},
   "source": [
    "* for the Nonlinear classifier SVM: "
   ]
  },
  {
   "cell_type": "code",
   "execution_count": 28,
   "metadata": {
    "jupyter": {
     "source_hidden": true
    }
   },
   "outputs": [
    {
     "data": {
      "text/html": [
       "<div>\n",
       "<style scoped>\n",
       "    .dataframe tbody tr th:only-of-type {\n",
       "        vertical-align: middle;\n",
       "    }\n",
       "\n",
       "    .dataframe tbody tr th {\n",
       "        vertical-align: top;\n",
       "    }\n",
       "\n",
       "    .dataframe thead th {\n",
       "        text-align: right;\n",
       "    }\n",
       "</style>\n",
       "<table border=\"1\" class=\"dataframe\">\n",
       "  <thead>\n",
       "    <tr style=\"text-align: right;\">\n",
       "      <th></th>\n",
       "      <th>C</th>\n",
       "      <th>kernel</th>\n",
       "      <th>gamma</th>\n",
       "      <th>AUC</th>\n",
       "      <th>ACC</th>\n",
       "      <th>HingeLoss</th>\n",
       "      <th>F1</th>\n",
       "    </tr>\n",
       "  </thead>\n",
       "  <tbody>\n",
       "    <tr>\n",
       "      <th>Train</th>\n",
       "      <td>2.63758</td>\n",
       "      <td>rbf</td>\n",
       "      <td>0.31202</td>\n",
       "      <td>0.997728</td>\n",
       "      <td>0.995215</td>\n",
       "      <td>0.389952</td>\n",
       "      <td>0.996124</td>\n",
       "    </tr>\n",
       "    <tr>\n",
       "      <th>Test</th>\n",
       "      <td>2.63758</td>\n",
       "      <td>rbf</td>\n",
       "      <td>0.31202</td>\n",
       "      <td>0.984375</td>\n",
       "      <td>0.980952</td>\n",
       "      <td>0.409524</td>\n",
       "      <td>0.984615</td>\n",
       "    </tr>\n",
       "  </tbody>\n",
       "</table>\n",
       "</div>"
      ],
      "text/plain": [
       "             C kernel    gamma       AUC       ACC HingeLoss        F1\n",
       "Train  2.63758    rbf  0.31202  0.997728  0.995215  0.389952  0.996124\n",
       "Test   2.63758    rbf  0.31202  0.984375  0.980952  0.409524  0.984615"
      ]
     },
     "metadata": {},
     "output_type": "display_data"
    }
   ],
   "source": [
    "C = best_svm['C']\n",
    "kernel=best_svm['kernel']\n",
    "gamma=best_svm['gamma']\n",
    "testdf_svm = pd.DataFrame(index=('Train', 'Test'), columns=('C', 'kernel', 'gamma', 'AUC', 'ACC', 'HingeLoss', 'F1'))\n",
    "clf_svm = svm.SVC(C=C, kernel=kernel, gamma=gamma, probability=True)\n",
    "clf_svm.fit(xtr, ytr)\n",
    "\n",
    "y_pred_svm = clf_svm.predict(xtr)\n",
    "y_predproba_svm = clf_svm.predict_proba(xtr)\n",
    "acc = metrics.accuracy_score(ytr, y_pred_svm)\n",
    "f1 = metrics.f1_score(ytr, y_pred_svm)\n",
    "hingeloss = metrics.hinge_loss(ytr, y_pred_svm)\n",
    "auc = metrics.roc_auc_score(ytr,  y_predproba_svm[:,1])\n",
    "testdf_svm.loc['Train', :] = C, kernel, gamma, auc, acc, hingeloss, f1\n",
    "\n",
    "y_pred_svm = clf_svm.predict(xte)\n",
    "y_predproba_svm = clf_svm.predict_proba(xte)\n",
    "acc = metrics.accuracy_score(yte, y_pred_svm)\n",
    "f1 = metrics.f1_score(yte, y_pred_svm)\n",
    "hingeloss = metrics.hinge_loss(yte, y_pred_svm)\n",
    "auc = metrics.roc_auc_score(yte,  y_predproba_svm[:,1])\n",
    "testdf_svm.loc['Test', :] = C, kernel, gamma, auc, acc, hingeloss, f1\n",
    "\n",
    "\n",
    "display(testdf_svm)"
   ]
  },
  {
   "cell_type": "markdown",
   "metadata": {},
   "source": [
    "##### 5. c. Not surprisinigly, the Nonlinear Classifier performs a bit better than the Linear Classifier. Generally, Linear classifiers are sub-type of nonlinear classifier, so usually nonlinear classifiers perform better (but  more computationally expensive). Pertaining this data of binary features, it may result in a multi-dimensional saw-like hyper-groups that may only be seperated wisely by nonlinear classifier."
   ]
  },
  {
   "cell_type": "markdown",
   "metadata": {},
   "source": [
    "#### **Q6:** Feature Selection ####"
   ]
  },
  {
   "cell_type": "code",
   "execution_count": 29,
   "metadata": {
    "jupyter": {
     "source_hidden": true
    }
   },
   "outputs": [
    {
     "name": "stdout",
     "output_type": "stream",
     "text": [
      "The accuracy of the random forest classifier is: 0.98095\n"
     ]
    }
   ],
   "source": [
    "rfc = RFC(n_estimators=1000, criterion='gini')\n",
    "rfc.fit(xtr, ytr)\n",
    "y_rfc_pred = rfc.predict(xte)\n",
    "rfc_acc = metrics.accuracy_score(yte, y_rfc_pred)\n",
    "print(\"The accuracy of the random forest classifier is: \" + str(\"{0:.5f}\".format(rfc_acc)))\n",
    "      "
   ]
  },
  {
   "cell_type": "markdown",
   "metadata": {},
   "source": [
    "We see that the accuracy of this model is the highest we observed so far (equal to the accuracy of the svm on test data).\n",
    "Next, we will try to understand which features are of great importance and then check for correlation with the features we explored manually:"
   ]
  },
  {
   "cell_type": "code",
   "execution_count": 30,
   "metadata": {
    "jupyter": {
     "source_hidden": true
    }
   },
   "outputs": [
    {
     "data": {
      "text/html": [
       "<div>\n",
       "<style scoped>\n",
       "    .dataframe tbody tr th:only-of-type {\n",
       "        vertical-align: middle;\n",
       "    }\n",
       "\n",
       "    .dataframe tbody tr th {\n",
       "        vertical-align: top;\n",
       "    }\n",
       "\n",
       "    .dataframe thead th {\n",
       "        text-align: right;\n",
       "    }\n",
       "</style>\n",
       "<table border=\"1\" class=\"dataframe\">\n",
       "  <thead>\n",
       "    <tr style=\"text-align: right;\">\n",
       "      <th></th>\n",
       "      <th>Hair Loss</th>\n",
       "      <th>Sudden Weight Loss</th>\n",
       "      <th>Partial Paresis</th>\n",
       "      <th>Increased Thirst</th>\n",
       "      <th>Family History</th>\n",
       "      <th>Gender</th>\n",
       "      <th>Genital Thrush</th>\n",
       "      <th>Irritability</th>\n",
       "      <th>Muscle Stiffness</th>\n",
       "      <th>Increased Urination</th>\n",
       "      <th>Increased Hunger</th>\n",
       "      <th>Visual Blurring</th>\n",
       "      <th>Obesity</th>\n",
       "      <th>Itching</th>\n",
       "      <th>Weakness</th>\n",
       "      <th>Delayed Healing</th>\n",
       "    </tr>\n",
       "  </thead>\n",
       "  <tbody>\n",
       "    <tr>\n",
       "      <th>0</th>\n",
       "      <td>0.0452326</td>\n",
       "      <td>0.0599982</td>\n",
       "      <td>0.0492593</td>\n",
       "      <td>0.194483</td>\n",
       "      <td>0.0110446</td>\n",
       "      <td>0.127512</td>\n",
       "      <td>0.0241703</td>\n",
       "      <td>0.0375492</td>\n",
       "      <td>0.0300864</td>\n",
       "      <td>0.207715</td>\n",
       "      <td>0.0449832</td>\n",
       "      <td>0.0356454</td>\n",
       "      <td>0.0224753</td>\n",
       "      <td>0.0438019</td>\n",
       "      <td>0.0264173</td>\n",
       "      <td>0.0396261</td>\n",
       "    </tr>\n",
       "  </tbody>\n",
       "</table>\n",
       "</div>"
      ],
      "text/plain": [
       "   Hair Loss Sudden Weight Loss Partial Paresis Increased Thirst  \\\n",
       "0  0.0452326          0.0599982       0.0492593         0.194483   \n",
       "\n",
       "  Family History    Gender Genital Thrush Irritability Muscle Stiffness  \\\n",
       "0      0.0110446  0.127512      0.0241703    0.0375492        0.0300864   \n",
       "\n",
       "  Increased Urination Increased Hunger Visual Blurring    Obesity    Itching  \\\n",
       "0            0.207715        0.0449832       0.0356454  0.0224753  0.0438019   \n",
       "\n",
       "    Weakness Delayed Healing  \n",
       "0  0.0264173       0.0396261  "
      ]
     },
     "metadata": {},
     "output_type": "display_data"
    }
   ],
   "source": [
    "rfc_res = pd.DataFrame(columns = (T1D_exnan.columns))\n",
    "rfc_res.loc[0,:] = rfc.feature_importances_\n",
    "\n",
    "display(rfc_res)"
   ]
  },
  {
   "cell_type": "markdown",
   "metadata": {},
   "source": [
    "6. a. i. The 2 most important features according to the random forest are **Increased Thirst** and **Increased Urination** (based on feature importance score provided by random forest model). If we inspect further, we can observe that the third important feature is the Gender feature, which can be explained by the bias seen beforehand- most of the Females in this dataset are T1D positive. \n",
    "\n",
    "    a. ii. This matches up exactly with the feature exploration we did above."
   ]
  },
  {
   "cell_type": "markdown",
   "metadata": {},
   "source": [
    "#### **Q7:** Data Separability Visualization ####\n",
    "\n"
   ]
  },
  {
   "cell_type": "markdown",
   "metadata": {},
   "source": [
    "Note: using PCA to reduce dimensioms with binary data could be problematic and is not optimal. we show below the results for a scaled PCA on the binary data and a more usable method for dimensionality reduction on binary data -> Logistic PCA."
   ]
  },
  {
   "cell_type": "code",
   "execution_count": 31,
   "metadata": {
    "jupyter": {
     "source_hidden": true
    }
   },
   "outputs": [],
   "source": [
    "scaler = stsc() #standard scaling\n",
    "xtr_sc = scaler.fit_transform(xtr)\n",
    "xte_sc = scaler.transform(xte)"
   ]
  },
  {
   "cell_type": "code",
   "execution_count": 32,
   "metadata": {
    "jupyter": {
     "source_hidden": true
    }
   },
   "outputs": [
    {
     "data": {
      "text/plain": [
       "<matplotlib.legend.Legend at 0x2dbf88ad988>"
      ]
     },
     "execution_count": 32,
     "metadata": {},
     "output_type": "execute_result"
    },
    {
     "data": {
      "image/png": "[encoded data removed]",
      "text/plain": [
       "<Figure size 432x288 with 1 Axes>"
      ]
     },
     "metadata": {},
     "output_type": "display_data"
    }
   ],
   "source": [
    "pca = PCA(n_components=2)\n",
    "pca.fit(xtr_sc)\n",
    "pca.explained_variance_ratio_\n",
    "#display(pca.components_)\n",
    "\n",
    "pca_res = pca.transform(xtr_sc)\n",
    "\n",
    "plt.scatter(pca_res[ytr==1,0], pca_res[ytr==1,1], color='cyan', label='Positive')\n",
    "plt.scatter(pca_res[ytr==0,0], pca_res[ytr==0,1], color='magenta', label='Negative')\n",
    "plt.legend()"
   ]
  },
  {
   "cell_type": "markdown",
   "metadata": {},
   "source": [
    "7. b. As observed in the scatter plot above, the two groups are generally distinct but are volatile and diffusive, in other words, it is apparent that there is 'geographical' seperability, but the border is blurred. Either way, a perfect separation between this two groups is not feasible using these features only."
   ]
  },
  {
   "cell_type": "markdown",
   "metadata": {},
   "source": [
    "7. c. + d. "
   ]
  },
  {
   "cell_type": "code",
   "execution_count": 33,
   "metadata": {
    "jupyter": {
     "source_hidden": true
    }
   },
   "outputs": [
    {
     "data": {
      "text/html": [
       "<div>\n",
       "<style scoped>\n",
       "    .dataframe tbody tr th:only-of-type {\n",
       "        vertical-align: middle;\n",
       "    }\n",
       "\n",
       "    .dataframe tbody tr th {\n",
       "        vertical-align: top;\n",
       "    }\n",
       "\n",
       "    .dataframe thead th {\n",
       "        text-align: right;\n",
       "    }\n",
       "</style>\n",
       "<table border=\"1\" class=\"dataframe\">\n",
       "  <thead>\n",
       "    <tr style=\"text-align: right;\">\n",
       "      <th></th>\n",
       "      <th>PC1</th>\n",
       "      <th>PC2</th>\n",
       "      <th>Diagnosis</th>\n",
       "    </tr>\n",
       "  </thead>\n",
       "  <tbody>\n",
       "    <tr>\n",
       "      <th>0</th>\n",
       "      <td>3.380113</td>\n",
       "      <td>-0.305302</td>\n",
       "      <td>True</td>\n",
       "    </tr>\n",
       "    <tr>\n",
       "      <th>1</th>\n",
       "      <td>-3.008438</td>\n",
       "      <td>-1.147374</td>\n",
       "      <td>False</td>\n",
       "    </tr>\n",
       "    <tr>\n",
       "      <th>2</th>\n",
       "      <td>2.751914</td>\n",
       "      <td>0.033196</td>\n",
       "      <td>True</td>\n",
       "    </tr>\n",
       "    <tr>\n",
       "      <th>3</th>\n",
       "      <td>1.837806</td>\n",
       "      <td>-0.977971</td>\n",
       "      <td>True</td>\n",
       "    </tr>\n",
       "    <tr>\n",
       "      <th>4</th>\n",
       "      <td>0.595998</td>\n",
       "      <td>2.948969</td>\n",
       "      <td>False</td>\n",
       "    </tr>\n",
       "    <tr>\n",
       "      <th>...</th>\n",
       "      <td>...</td>\n",
       "      <td>...</td>\n",
       "      <td>...</td>\n",
       "    </tr>\n",
       "    <tr>\n",
       "      <th>413</th>\n",
       "      <td>2.805743</td>\n",
       "      <td>0.528134</td>\n",
       "      <td>True</td>\n",
       "    </tr>\n",
       "    <tr>\n",
       "      <th>414</th>\n",
       "      <td>-0.008371</td>\n",
       "      <td>0.391407</td>\n",
       "      <td>True</td>\n",
       "    </tr>\n",
       "    <tr>\n",
       "      <th>415</th>\n",
       "      <td>-2.347778</td>\n",
       "      <td>-0.388015</td>\n",
       "      <td>False</td>\n",
       "    </tr>\n",
       "    <tr>\n",
       "      <th>416</th>\n",
       "      <td>-2.432786</td>\n",
       "      <td>-0.656536</td>\n",
       "      <td>False</td>\n",
       "    </tr>\n",
       "    <tr>\n",
       "      <th>417</th>\n",
       "      <td>-0.407392</td>\n",
       "      <td>2.175156</td>\n",
       "      <td>False</td>\n",
       "    </tr>\n",
       "  </tbody>\n",
       "</table>\n",
       "<p>418 rows × 3 columns</p>\n",
       "</div>"
      ],
      "text/plain": [
       "          PC1       PC2  Diagnosis\n",
       "0    3.380113 -0.305302       True\n",
       "1   -3.008438 -1.147374      False\n",
       "2    2.751914  0.033196       True\n",
       "3    1.837806 -0.977971       True\n",
       "4    0.595998  2.948969      False\n",
       "..        ...       ...        ...\n",
       "413  2.805743  0.528134       True\n",
       "414 -0.008371  0.391407       True\n",
       "415 -2.347778 -0.388015      False\n",
       "416 -2.432786 -0.656536      False\n",
       "417 -0.407392  2.175156      False\n",
       "\n",
       "[418 rows x 3 columns]"
      ]
     },
     "execution_count": 33,
     "metadata": {},
     "output_type": "execute_result"
    }
   ],
   "source": [
    "d = {'PC1': pca_res[:,0], 'PC2': pca_res[:,1], 'Diagnosis': ytr}\n",
    "pca_df = pd.DataFrame(data=d)\n",
    "#pca_df['PC1','PC2']= pca_res\n",
    "pca_df"
   ]
  },
  {
   "cell_type": "markdown",
   "metadata": {},
   "source": [
    "Firstly, we want to split our data into train and test subsets (stratified by the diagnosis)."
   ]
  },
  {
   "cell_type": "code",
   "execution_count": 34,
   "metadata": {
    "jupyter": {
     "source_hidden": true
    }
   },
   "outputs": [],
   "source": [
    "#xtr_pca, xte_pca, ytr_pca, yte_pca = tts(pca_df.iloc[:,0:2], np.ravel(diagnosis), test_size=0.2, random_state=7, stratify=np.ravel(diagnosis))\n",
    "xtr_rf, xte_rf, ytr_rf, yte_rf = tts(T1D_exnan.loc[:,['Increased Thirst','Increased Urination']], np.ravel(diagnosis), test_size=0.2, random_state=7, stratify=np.ravel(diagnosis))"
   ]
  },
  {
   "cell_type": "markdown",
   "metadata": {},
   "source": [
    "#### c. Testing the models on the PCA-extracted features (PC1, PC2)"
   ]
  },
  {
   "cell_type": "markdown",
   "metadata": {},
   "source": [
    "* Logistic Regression (Linear Classifier):"
   ]
  },
  {
   "cell_type": "code",
   "execution_count": 35,
   "metadata": {
    "jupyter": {
     "source_hidden": true
    }
   },
   "outputs": [
    {
     "data": {
      "text/html": [
       "<div>\n",
       "<style scoped>\n",
       "    .dataframe tbody tr th:only-of-type {\n",
       "        vertical-align: middle;\n",
       "    }\n",
       "\n",
       "    .dataframe tbody tr th {\n",
       "        vertical-align: top;\n",
       "    }\n",
       "\n",
       "    .dataframe thead th {\n",
       "        text-align: right;\n",
       "    }\n",
       "</style>\n",
       "<table border=\"1\" class=\"dataframe\">\n",
       "  <thead>\n",
       "    <tr style=\"text-align: right;\">\n",
       "      <th></th>\n",
       "      <th>C</th>\n",
       "      <th>penalty</th>\n",
       "      <th>AUC</th>\n",
       "      <th>ACC</th>\n",
       "      <th>LogLoss</th>\n",
       "      <th>F1</th>\n",
       "    </tr>\n",
       "  </thead>\n",
       "  <tbody>\n",
       "    <tr>\n",
       "      <th>0</th>\n",
       "      <td>1.58051</td>\n",
       "      <td>l1</td>\n",
       "      <td>0.976372</td>\n",
       "      <td>0.942857</td>\n",
       "      <td>0.170027</td>\n",
       "      <td>0.952381</td>\n",
       "    </tr>\n",
       "  </tbody>\n",
       "</table>\n",
       "</div>"
      ],
      "text/plain": [
       "         C penalty       AUC       ACC   LogLoss        F1\n",
       "0  1.58051      l1  0.976372  0.942857  0.170027  0.952381"
      ]
     },
     "metadata": {},
     "output_type": "display_data"
    }
   ],
   "source": [
    "C = best_lr['C']\n",
    "penalty=best_lr['penalty']\n",
    "testdf_pca_lr = pd.DataFrame(columns=('C', 'penalty', 'AUC', 'ACC', 'LogLoss', 'F1'))\n",
    "LR = LogisticRegression(solver='saga', penalty=penalty, max_iter=10000, C=C)\n",
    "LR.fit(xtr_sc, ytr)\n",
    "y_pred_lr = LR.predict(xte_sc)\n",
    "y_predproba_lr = LR.predict_proba(xte_sc)\n",
    "\n",
    "acc = metrics.accuracy_score(yte, y_pred_lr)\n",
    "f1 = metrics.f1_score(yte, y_pred_lr)\n",
    "logloss = metrics.log_loss(yte, y_predproba_lr)\n",
    "auc = metrics.roc_auc_score(yte,  y_predproba_lr[:,1])\n",
    "testdf_pca_lr.loc[0, :] = C, penalty, auc, acc, logloss, f1\n",
    "display(testdf_pca_lr)"
   ]
  },
  {
   "cell_type": "markdown",
   "metadata": {},
   "source": [
    "* SVM (Nonlinear Classifier):"
   ]
  },
  {
   "cell_type": "code",
   "execution_count": 36,
   "metadata": {
    "jupyter": {
     "source_hidden": true
    }
   },
   "outputs": [
    {
     "data": {
      "text/html": [
       "<div>\n",
       "<style scoped>\n",
       "    .dataframe tbody tr th:only-of-type {\n",
       "        vertical-align: middle;\n",
       "    }\n",
       "\n",
       "    .dataframe tbody tr th {\n",
       "        vertical-align: top;\n",
       "    }\n",
       "\n",
       "    .dataframe thead th {\n",
       "        text-align: right;\n",
       "    }\n",
       "</style>\n",
       "<table border=\"1\" class=\"dataframe\">\n",
       "  <thead>\n",
       "    <tr style=\"text-align: right;\">\n",
       "      <th></th>\n",
       "      <th>C</th>\n",
       "      <th>kernel</th>\n",
       "      <th>gamma</th>\n",
       "      <th>AUC</th>\n",
       "      <th>ACC</th>\n",
       "      <th>Hinge Loss</th>\n",
       "      <th>F1</th>\n",
       "    </tr>\n",
       "  </thead>\n",
       "  <tbody>\n",
       "    <tr>\n",
       "      <th>0</th>\n",
       "      <td>2.63758</td>\n",
       "      <td>rbf</td>\n",
       "      <td>0.31202</td>\n",
       "      <td>0.985899</td>\n",
       "      <td>0.971429</td>\n",
       "      <td>0.419048</td>\n",
       "      <td>0.976744</td>\n",
       "    </tr>\n",
       "  </tbody>\n",
       "</table>\n",
       "</div>"
      ],
      "text/plain": [
       "         C kernel    gamma       AUC       ACC Hinge Loss        F1\n",
       "0  2.63758    rbf  0.31202  0.985899  0.971429   0.419048  0.976744"
      ]
     },
     "metadata": {},
     "output_type": "display_data"
    }
   ],
   "source": [
    "C = best_svm['C']\n",
    "kernel = best_svm['kernel']\n",
    "gamma = best_svm['gamma']\n",
    "testdf_pca_svm = pd.DataFrame(columns=('C', 'kernel','gamma', 'AUC', 'ACC', 'Hinge Loss', 'F1'))\n",
    "clf = svm.SVC(C=C, kernel=kernel, probability=True)\n",
    "clf.fit(xtr_sc, ytr)\n",
    "y_pred_svm = clf.predict(xte_sc)\n",
    "y_predproba_svm = clf.predict_proba(xte_sc)\n",
    "acc = metrics.accuracy_score(yte, y_pred_svm)\n",
    "f1 = metrics.f1_score(yte, y_pred_svm)\n",
    "hingeloss = metrics.hinge_loss(yte, y_pred_svm)\n",
    "auc = metrics.roc_auc_score(yte,  y_predproba_svm[:,1])\n",
    "testdf_pca_svm.loc[0, :] = C, kernel, gamma, auc, acc, hingeloss, f1\n",
    "display(testdf_pca_svm)"
   ]
  },
  {
   "cell_type": "markdown",
   "metadata": {},
   "source": [
    "#### d. Testing the models on the Random Forest extracted features (Increased Thirst and Urination)\n"
   ]
  },
  {
   "cell_type": "markdown",
   "metadata": {},
   "source": [
    "* Logistic Regression (Linear Classifier):"
   ]
  },
  {
   "cell_type": "code",
   "execution_count": 37,
   "metadata": {
    "jupyter": {
     "source_hidden": true
    }
   },
   "outputs": [
    {
     "data": {
      "text/html": [
       "<div>\n",
       "<style scoped>\n",
       "    .dataframe tbody tr th:only-of-type {\n",
       "        vertical-align: middle;\n",
       "    }\n",
       "\n",
       "    .dataframe tbody tr th {\n",
       "        vertical-align: top;\n",
       "    }\n",
       "\n",
       "    .dataframe thead th {\n",
       "        text-align: right;\n",
       "    }\n",
       "</style>\n",
       "<table border=\"1\" class=\"dataframe\">\n",
       "  <thead>\n",
       "    <tr style=\"text-align: right;\">\n",
       "      <th></th>\n",
       "      <th>C</th>\n",
       "      <th>penalty</th>\n",
       "      <th>AUC</th>\n",
       "      <th>ACC</th>\n",
       "      <th>LogLoss</th>\n",
       "      <th>F1</th>\n",
       "    </tr>\n",
       "  </thead>\n",
       "  <tbody>\n",
       "    <tr>\n",
       "      <th>0</th>\n",
       "      <td>1.58051</td>\n",
       "      <td>l1</td>\n",
       "      <td>0.962843</td>\n",
       "      <td>0.942857</td>\n",
       "      <td>0.231786</td>\n",
       "      <td>0.953125</td>\n",
       "    </tr>\n",
       "  </tbody>\n",
       "</table>\n",
       "</div>"
      ],
      "text/plain": [
       "         C penalty       AUC       ACC   LogLoss        F1\n",
       "0  1.58051      l1  0.962843  0.942857  0.231786  0.953125"
      ]
     },
     "metadata": {},
     "output_type": "display_data"
    }
   ],
   "source": [
    "C = best_lr['C']\n",
    "penalty = best_lr['penalty']\n",
    "testdf_rf_lr = pd.DataFrame(columns=('C', 'penalty', 'AUC', 'ACC', 'LogLoss', 'F1'))\n",
    "LR = LogisticRegression(solver='saga', penalty=penalty, max_iter=10000, C=C)\n",
    "LR.fit(xtr_rf, ytr_rf)\n",
    "y_pred_lr = LR.predict(xte_rf)\n",
    "y_predproba_lr = LR.predict_proba(xte_rf)\n",
    "acc = metrics.accuracy_score(yte_rf, y_pred_lr)\n",
    "f1 = metrics.f1_score(yte_rf, y_pred_lr)\n",
    "logloss = metrics.log_loss(yte_rf, y_predproba_lr)\n",
    "auc = metrics.roc_auc_score(yte_rf,  y_predproba_lr[:,1])\n",
    "testdf_rf_lr.loc[0, :] = C, penalty, auc, acc, logloss, f1\n",
    "display(testdf_rf_lr)"
   ]
  },
  {
   "cell_type": "markdown",
   "metadata": {},
   "source": [
    "* SVM (Nonlinear Classifier):"
   ]
  },
  {
   "cell_type": "code",
   "execution_count": 38,
   "metadata": {
    "jupyter": {
     "source_hidden": true
    }
   },
   "outputs": [
    {
     "data": {
      "text/html": [
       "<div>\n",
       "<style scoped>\n",
       "    .dataframe tbody tr th:only-of-type {\n",
       "        vertical-align: middle;\n",
       "    }\n",
       "\n",
       "    .dataframe tbody tr th {\n",
       "        vertical-align: top;\n",
       "    }\n",
       "\n",
       "    .dataframe thead th {\n",
       "        text-align: right;\n",
       "    }\n",
       "</style>\n",
       "<table border=\"1\" class=\"dataframe\">\n",
       "  <thead>\n",
       "    <tr style=\"text-align: right;\">\n",
       "      <th></th>\n",
       "      <th>C</th>\n",
       "      <th>kernel</th>\n",
       "      <th>gamma</th>\n",
       "      <th>AUC</th>\n",
       "      <th>ACC</th>\n",
       "      <th>Hinge Loss</th>\n",
       "      <th>F1</th>\n",
       "    </tr>\n",
       "  </thead>\n",
       "  <tbody>\n",
       "    <tr>\n",
       "      <th>0</th>\n",
       "      <td>2.63758</td>\n",
       "      <td>rbf</td>\n",
       "      <td>0.31202</td>\n",
       "      <td>0.947599</td>\n",
       "      <td>0.942857</td>\n",
       "      <td>0.447619</td>\n",
       "      <td>0.953125</td>\n",
       "    </tr>\n",
       "  </tbody>\n",
       "</table>\n",
       "</div>"
      ],
      "text/plain": [
       "         C kernel    gamma       AUC       ACC Hinge Loss        F1\n",
       "0  2.63758    rbf  0.31202  0.947599  0.942857   0.447619  0.953125"
      ]
     },
     "metadata": {},
     "output_type": "display_data"
    }
   ],
   "source": [
    "C = best_svm['C']\n",
    "kernel = best_svm['kernel']\n",
    "gamma = best_svm['gamma']\n",
    "testdf_rf_svm = pd.DataFrame(columns=('C', 'kernel', 'gamma', 'AUC', 'ACC', 'Hinge Loss', 'F1'))\n",
    "clf = svm.SVC(C=C, kernel=kernel, probability = True)\n",
    "clf.fit(xtr_rf, ytr_rf)\n",
    "y_pred_svm = clf.predict(xte_rf)\n",
    "y_predproba_svm = clf.predict_proba(xte_rf)\n",
    "acc = metrics.accuracy_score(yte_rf, y_pred_svm)\n",
    "f1 = metrics.f1_score(yte_rf, y_pred_svm)\n",
    "hingeloss = metrics.hinge_loss(yte_rf, y_pred_svm)\n",
    "auc = metrics.roc_auc_score(yte_rf,  y_predproba_svm[:,1])\n",
    "testdf_rf_svm.loc[0, :] = C, kernel, gamma, auc, acc, hingeloss, f1\n",
    "display(testdf_rf_svm)"
   ]
  },
  {
   "cell_type": "markdown",
   "metadata": {},
   "source": [
    "e. As we have seen, the model trained on dimensionality reduced training set performed better. This result was predictable, as in the random forest procedure we have picked the two most \"important\" features, when in the dimensionality reduced procedure we used the two \"most\" principal components which include information from the whole set of features therefore is more significant for the model and helps the model to predict better. Being sufficed by 2 features may be lucrative, because for every person we most obtain only a small number of features which is less time consuming and cheaper, and the computing process will be fast. On the other hand, obtaining a large number of features will add information which most probably will assist the model to predict better, although it is more time consuming and more expensive. "
   ]
  },
  {
   "cell_type": "markdown",
   "metadata": {},
   "source": [
    "**Bonus:**\n",
    "We tried to think on a good way to perform a dimensionallity reduction on the binary dataset. we saw online some possible solutions but tried to think on another one on are own.\n",
    "We will give every patient two scores, one relying on all of the features (weighted by the importance vector output by the random forest classifier) and the other on the MayoClinic (https://www.mayoclinic.org/diseases-conditions/type-1-diabetes/symptoms-causes/syc-20353011) ones."
   ]
  },
  {
   "cell_type": "code",
   "execution_count": 39,
   "metadata": {
    "jupyter": {
     "source_hidden": true
    }
   },
   "outputs": [
    {
     "data": {
      "text/plain": [
       "<matplotlib.legend.Legend at 0x2dbe6d69748>"
      ]
     },
     "execution_count": 39,
     "metadata": {},
     "output_type": "execute_result"
    },
    {
     "data": {
      "image/png": "[encoded data removed]",
      "text/plain": [
       "<Figure size 432x288 with 1 Axes>"
      ]
     },
     "metadata": {},
     "output_type": "display_data"
    }
   ],
   "source": [
    "rfc_scale = rfc.feature_importances_\n",
    "T1D_scaled = T1D_exnan * rfc_scale\n",
    "all_feat_score = T1D_scaled.sum(axis=1)  \n",
    "#all_feat_score = T1D_scaled.sum(axis=1)  / len(feat_col)\n",
    "\n",
    "T1D_mayo = T1D_scaled.loc[:,{'Increased Thirst', 'Increased Urination', 'Increased Hunger', 'Sudden Weight Loss', 'Irritability', 'Weakness', 'Visual Blurring'}]\n",
    "#T1D_exnan\n",
    "mayo_feat_score = T1D_mayo.sum(axis=1) \n",
    "#mayo_feat_score = T1D_mayo.sum(axis=1)  / len(T1D_mayo.columns)\n",
    "\n",
    "plt.scatter(mayo_feat_score[diagnosis==1], all_feat_score[diagnosis==1], color='cyan', label='Positive')\n",
    "plt.scatter(mayo_feat_score[diagnosis==0], all_feat_score[diagnosis==0], color='magenta', label='Negative')\n",
    "plt.legend()\n"
   ]
  },
  {
   "cell_type": "code",
   "execution_count": 40,
   "metadata": {
    "jupyter": {
     "source_hidden": true
    }
   },
   "outputs": [],
   "source": [
    "xtr, xte, ytr, yte = tts(T1D_scaled, np.ravel(diagnosis), test_size=0.2, random_state=7, stratify=np.ravel(diagnosis))\n",
    "\n",
    "T1D_mayo_tr = xtr.loc[:,{'Increased Thirst', 'Increased Urination', 'Increased Hunger', 'Sudden Weight Loss', 'Irritability', 'Weakness', 'Visual Blurring'}]\n",
    "T1D_mayo_te = xte.loc[:,{'Increased Thirst', 'Increased Urination', 'Increased Hunger', 'Sudden Weight Loss', 'Irritability', 'Weakness', 'Visual Blurring'}]\n",
    "\n",
    "all_feat_score_tr = xtr.sum(axis=1)  \n",
    "all_feat_score_te = xte.sum(axis=1)  \n",
    "\n",
    "mayo_feat_score_tr = T1D_mayo_tr.sum(axis=1)  \n",
    "mayo_feat_score_te = T1D_mayo_te.sum(axis=1) \n",
    "\n",
    "xtrain = pd.DataFrame(columns=('all', 'mayo'))\n",
    "xtrain['all'] = all_feat_score_tr\n",
    "xtrain['mayo'] = mayo_feat_score_tr\n",
    "\n",
    "xtest = pd.DataFrame(columns=('all', 'mayo'))\n",
    "xtest['all'] = all_feat_score_te\n",
    "xtest['mayo'] = mayo_feat_score_te\n",
    "\n",
    "#scaler = stsc() #standard scaling\n",
    "#xtr_sc = scaler.fit_transform(xtrain)\n",
    "#xte_sc = scaler.transform(xtest)"
   ]
  },
  {
   "cell_type": "code",
   "execution_count": 41,
   "metadata": {
    "jupyter": {
     "source_hidden": true
    }
   },
   "outputs": [
    {
     "data": {
      "text/plain": [
       "<matplotlib.legend.Legend at 0x2dbf86f3548>"
      ]
     },
     "execution_count": 41,
     "metadata": {},
     "output_type": "execute_result"
    },
    {
     "data": {
      "image/png": "[encoded data removed]",
      "text/plain": [
       "<Figure size 432x288 with 1 Axes>"
      ]
     },
     "metadata": {},
     "output_type": "display_data"
    }
   ],
   "source": [
    "xtr_sc = xtrain\n",
    "pca = PCA(n_components=2)\n",
    "pca.fit(xtr_sc)\n",
    "pca.explained_variance_ratio_\n",
    "#display(pca.components_)\n",
    "\n",
    "pca_res = pca.transform(xtr_sc)\n",
    "\n",
    "plt.scatter(pca_res[ytr==1,0], pca_res[ytr==1,1], color='cyan', label='Positive')\n",
    "plt.scatter(pca_res[ytr==0,0], pca_res[ytr==0,1], color='magenta', label='Negative')\n",
    "plt.legend()"
   ]
  },
  {
   "cell_type": "markdown",
   "metadata": {},
   "source": [
    "**To summarize, we managed to project tha binary data on a single axis which represents them all. we can see that although the sepereation is not perfect, we got pretty nice visual results by making binary data of multiple features spreaded on a single score meter.**"
   ]
  }
 ],
 "metadata": {
  "kernelspec": {
   "display_name": "Python 3",
   "language": "python",
   "name": "python3"
  },
  "language_info": {
   "codemirror_mode": {
    "name": "ipython",
    "version": 3
   },
   "file_extension": ".py",
   "mimetype": "text/x-python",
   "name": "python",
   "nbconvert_exporter": "python",
   "pygments_lexer": "ipython3",
   "version": "3.7.9"
  }
 },
 "nbformat": 4,
 "nbformat_minor": 4
}
